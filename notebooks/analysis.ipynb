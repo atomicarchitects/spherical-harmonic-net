{
 "cells": [
  {
   "cell_type": "code",
   "execution_count": 1,
   "metadata": {},
   "outputs": [
    {
     "name": "stderr",
     "output_type": "stream",
     "text": [
      "/Users/songk/miniconda3/envs/sh-net/lib/python3.10/site-packages/flax/struct.py:136: FutureWarning: jax.tree_util.register_keypaths is deprecated, and will be removed in a future release. Please use `register_pytree_with_keys()` instead.\n",
      "  jax.tree_util.register_keypaths(data_clz, keypaths)\n",
      "/Users/songk/miniconda3/envs/sh-net/lib/python3.10/site-packages/flax/struct.py:136: FutureWarning: jax.tree_util.register_keypaths is deprecated, and will be removed in a future release. Please use `register_pytree_with_keys()` instead.\n",
      "  jax.tree_util.register_keypaths(data_clz, keypaths)\n",
      "/Users/songk/miniconda3/envs/sh-net/lib/python3.10/site-packages/flax/struct.py:136: FutureWarning: jax.tree_util.register_keypaths is deprecated, and will be removed in a future release. Please use `register_pytree_with_keys()` instead.\n",
      "  jax.tree_util.register_keypaths(data_clz, keypaths)\n"
     ]
    }
   ],
   "source": [
    "import ase\n",
    "import ase.build\n",
    "from ase.db import connect\n",
    "import itertools\n",
    "import numpy as np\n",
    "from openbabel import openbabel as ob\n",
    "import os\n",
    "import pickle\n",
    "import pandas as pd\n",
    "import plotly.express as px\n",
    "import plotly.graph_objects as go\n",
    "import sys\n",
    "from typing import Tuple\n",
    "\n",
    "sys.path.append('..')\n",
    "sys.path.append('../analyses')\n",
    "import analysis"
   ]
  },
  {
   "cell_type": "code",
   "execution_count": 2,
   "metadata": {},
   "outputs": [],
   "source": [
    "generated_db = '../analyses/molecules/generated/v5/nequip/interactions=4/l=5/channels=32/beta=1.0/step=best/generated_molecules.db'"
   ]
  },
  {
   "cell_type": "code",
   "execution_count": 3,
   "metadata": {},
   "outputs": [],
   "source": [
    "generated_dists = []\n",
    "\n",
    "with connect(generated_db) as conn:\n",
    "    for row in conn.select():\n",
    "        mol = row.toatoms()\n",
    "        for atom1, atom2 in itertools.combinations(mol.positions, 2):\n",
    "            generated_dists.append(np.linalg.norm(atom1 - atom2))"
   ]
  },
  {
   "cell_type": "code",
   "execution_count": 4,
   "metadata": {},
   "outputs": [],
   "source": [
    "training_dists = []\n",
    "\n",
    "model, params, config = analysis.load_model_at_step(\n",
    "    '../workdirs/v6/nequip/interactions=4/l=5/channels=32', -1, run_in_evaluation_mode=True\n",
    ")\n",
    "\n",
    "with connect('../qm9_data/qm9-all.db') as conn:\n",
    "    i = 0\n",
    "    for row in conn.select():\n",
    "        mol = row.toatoms()\n",
    "        for atom1, atom2 in itertools.combinations(mol.positions, 2):\n",
    "            training_dists.append(np.linalg.norm(atom1 - atom2))\n",
    "        if i > 100:\n",
    "            break"
   ]
  },
  {
   "cell_type": "code",
   "execution_count": 5,
   "metadata": {},
   "outputs": [],
   "source": [
    "training_fig = go.Figure([go.Histogram(x=training_dists, xbins={'start': 0, 'end': 10, 'size': 0.5})])\n",
    "training_fig.update_xaxes(title_text='Distance (Å)')\n",
    "training_fig"
   ]
  },
  {
   "cell_type": "code",
   "execution_count": null,
   "metadata": {},
   "outputs": [],
   "source": [
    "generated_fig = go.Figure([go.Histogram(x=generated_dists, xbins={'start': 0, 'end': 10, 'size': 0.5})])\n",
    "generated_fig.update_xaxes(title_text='Distance (Å)')\n",
    "generated_fig"
   ]
  },
  {
   "cell_type": "code",
   "execution_count": null,
   "metadata": {},
   "outputs": [],
   "source": []
  }
 ],
 "metadata": {
  "kernelspec": {
   "display_name": "sh-net",
   "language": "python",
   "name": "python3"
  },
  "language_info": {
   "codemirror_mode": {
    "name": "ipython",
    "version": 3
   },
   "file_extension": ".py",
   "mimetype": "text/x-python",
   "name": "python",
   "nbconvert_exporter": "python",
   "pygments_lexer": "ipython3",
   "version": "3.10.0"
  },
  "orig_nbformat": 4
 },
 "nbformat": 4,
 "nbformat_minor": 2
}
