{
 "cells": [
  {
   "cell_type": "markdown",
   "metadata": {},
   "source": [
    "## 1. Introduction to e3nn-jax\n",
    "\n",
    "[e3nn-jax](https://github.com/e3nn/e3nn-jax) is the [JAX](https://github.com/google/jax) implementation of the [e3nn](https://github.com/e3nn/e3nn) library that was originally written in PyTorch. JAX is a Python framework for numerical computing that allows for automatic differentiation and just-in-time compilation.\n",
    "\n",
    "This notebook will provide a small introduction to the e3nn-jax library and show how to use it to build equivariant neural networks.\n",
    "For more details on the e3nn library, please refer to the [e3nn paper](https://arxiv.org/abs/2207.09453). \n"
   ]
  },
  {
   "cell_type": "code",
   "execution_count": null,
   "metadata": {},
   "outputs": [],
   "source": [
    "# Setup.\n",
    "!pip install e3nn_jax jax plotly numpy<2"
   ]
  },
  {
   "cell_type": "code",
   "execution_count": null,
   "metadata": {},
   "outputs": [],
   "source": [
    "# Imports\n",
    "import e3nn_jax as e3nn\n",
    "import jax\n",
    "import jax.numpy as jnp\n",
    "import numpy as np\n",
    "import plotly.graph_objects as go\n",
    "import plotly.subplots"
   ]
  },
  {
   "cell_type": "markdown",
   "metadata": {},
   "source": [
    "$$\n",
    "\\def\\R{{\\mathbf{R}}}\n",
    "$$"
   ]
  },
  {
   "cell_type": "markdown",
   "metadata": {},
   "source": [
    "Let's start with a brief introduction to 3D rotations.\n",
    "\n",
    "**Rotations**: A rotation in 3 dimensions can be described by a 3x3 orthogonal matrix $\\R$:\n",
    "$$\n",
    "\\R^T \\R = \\R \\R^T = \\mathbb{I}\n",
    "$$\n",
    "such that the determinant of $\\R$ is 1.\n",
    "\n",
    "The group of all $3 \\times 3$ matrices with determinant $1$ is called $SO(3)$, the special orthogonal group.\n",
    "\n",
    "The group of all $3 \\times 3$ matrices with determinant $1$ or $-1$ is called $O(3)$, the orthogonal group. \n",
    "\n",
    "It turns out that every orthogonal matrix in 3 dimensions is either a rotation (ie has determinant 1), or is a product of a rotation and the inversion $-I$:\n",
    "$$\n",
    "-I = \\begin{pmatrix}\n",
    "-1 & 0 & 0 \\\\\n",
    "0 & -1 & 0 \\\\\n",
    "0 & 0 & -1\n",
    "\\end{pmatrix}\n",
    "$$\n",
    "which is a reflection through the origin.\n",
    "\n",
    "Often, people use the term \"improper rotation\" to refer to a rotation followed by a reflection, ie a matrix in $O(3)$ with determinant $-1$. Here, we will use the term \"rotation\" to refer to a matrix in $SO(3)$."
   ]
  },
  {
   "cell_type": "code",
   "execution_count": null,
   "metadata": {},
   "outputs": [],
   "source": [
    "# Plot three vectors, and rotate / invert them.\n",
    "# Define two vectors\n",
    "v1 = np.asarray([2, 3, 1])\n",
    "v2 = np.asarray([1, -1, 1])\n",
    "v3 = np.asarray([1, 1, 2])\n",
    "\n",
    "# Create a random rotation.\n",
    "key = jax.random.PRNGKey(0)  # Key for random number generation.\n",
    "R = e3nn.rand_matrix(key)\n",
    "\n",
    "# Create a list of vectors\n",
    "vectors = [v1, v2, v3]\n",
    "names = [\"v1\", \"v2\", \"v3\"]\n",
    "rotated_vectors = [R @ vec for vec in vectors]\n",
    "rotated_names = [\"R v1\", \"R v2\", \"R v3\"]\n",
    "\n",
    "colors = [\"red\", \"blue\", \"green\"]\n",
    "\n",
    "# Create the 3D scatter plot\n",
    "fig = plotly.subplots.make_subplots(\n",
    "    rows=1,\n",
    "    cols=2,\n",
    "    specs=[[{\"type\": \"scene\"}, {\"type\": \"scene\"}]],\n",
    "    subplot_titles=(\"Original Vectors\", \"Rotated Vectors\"),\n",
    ")\n",
    "\n",
    "for col, [vectors_list, names_list] in enumerate(\n",
    "    zip([vectors, rotated_vectors], [names, rotated_names]), start=1\n",
    "):\n",
    "    for vec, color, name in zip(vectors_list, colors, names_list):\n",
    "        # Plot the vectors\n",
    "        fig.add_trace(\n",
    "            go.Scatter3d(\n",
    "                x=[0, vec[0]],\n",
    "                y=[0, vec[1]],\n",
    "                z=[0, vec[2]],\n",
    "                mode=\"lines\",\n",
    "                line=dict(width=5, color=color),\n",
    "                name=name,\n",
    "                showlegend=(col == 1),\n",
    "            ),\n",
    "            row=1,\n",
    "            col=col,\n",
    "        )\n",
    "\n",
    "        # Add dots at the end of each vector\n",
    "        fig.add_trace(\n",
    "            go.Scatter3d(\n",
    "                x=[vec[0]],\n",
    "                y=[vec[1]],\n",
    "                z=[vec[2]],\n",
    "                mode=\"markers\",\n",
    "                marker=dict(size=5, color=color),\n",
    "                name=name + \" endpoint\",\n",
    "                showlegend=False,\n",
    "            ),\n",
    "            row=1,\n",
    "            col=col,\n",
    "        )\n",
    "\n",
    "\n",
    "fig.update_layout(title_text=\"Vectors and their Rotations\")\n",
    "fig.update_layout(\n",
    "    scene=dict(\n",
    "        xaxis=dict(range=[-6, 6]),\n",
    "        yaxis=dict(range=[-6, 6]),\n",
    "        zaxis=dict(range=[-6, 6]),\n",
    "    )\n",
    ")\n",
    "fig.update_layout(\n",
    "    scene2=dict(\n",
    "        xaxis=dict(range=[-6, 6]),\n",
    "        yaxis=dict(range=[-6, 6]),\n",
    "        zaxis=dict(range=[-6, 6]),\n",
    "    )\n",
    ")\n",
    "\n",
    "# Show the plot\n",
    "fig.show()"
   ]
  },
  {
   "cell_type": "markdown",
   "metadata": {},
   "source": [
    "Note how the angles between the vectors are preserved under rotations. This is because the dot product of two vectors is invariant under rotations."
   ]
  },
  {
   "cell_type": "markdown",
   "metadata": {},
   "source": [
    "### Irreducible Representations\n",
    "\n",
    "e3nn provides a way to build neural networks that understand 3D rotations. \n",
    "\n",
    "What does this mean? Let's consider the example of a molecule, which consists of atoms living in 3D space. The molecule can be rotated and reflected in space, but the underlying physics of the molecule does not change. Our choice of coordinates is arbitrary, and we should be able to build models that respect this arbitrariness.\n",
    "\n",
    "For example, the energy of the molecule does not change under rotations and inversion. We term such properties as 'invariants' or 'scalars', because under rotations $R$ they transform as:\n",
    "$$\n",
    "E \\mapsto_\\R E\n",
    "$$\n",
    "and under inversion $p$ they transform as:\n",
    "$$\n",
    "E \\mapsto_{-I} E\n",
    "$$\n",
    "We say that scalars have even parity under inversion."
   ]
  },
  {
   "cell_type": "code",
   "execution_count": null,
   "metadata": {},
   "outputs": [],
   "source": [
    "# Don't worry about the notation below for now.\n",
    "# We are just telling e3nn how energies transform under rotations and inversions.\n",
    "# The notation 0e is a short form for (l, p) = (0, 1).\n",
    "# l = 0 means that the quantity is invariant under rotations.\n",
    "# p = 1 means that the quantity is invariant under reflections, (ie even).\n",
    "energy = e3nn.IrrepsArray(\"0e\", jnp.asarray([0.5]))\n",
    "rotated_energy = energy.transform_by_matrix(R)\n",
    "reflected_energy = energy.transform_by_matrix(-R)\n",
    "\n",
    "print(\"Observed energy after rotation:\", rotated_energy)\n",
    "print(\"Expected energy after rotation:\", energy)\n",
    "print()\n",
    "print(\"Observed energy after reflection:\", reflected_energy)\n",
    "print(\"Expected energy after reflection:\", energy)"
   ]
  },
  {
   "cell_type": "markdown",
   "metadata": {},
   "source": [
    "A [pseudo-scalar](https://en.wikipedia.org/wiki/Pseudoscalar) is a quantity that is invariant under rotation, but changes sign under inversions:\n",
    "$$\n",
    "H \\mapsto_{-I} -H\n",
    "$$\n",
    "Pseudo-scalars have odd parity under inversion.\n",
    "An example of a pseudo-scalar is the handedness of a helix:"
   ]
  },
  {
   "cell_type": "code",
   "execution_count": null,
   "metadata": {},
   "outputs": [],
   "source": [
    "# Plot helices.\n",
    "t = np.linspace(0, 10, 1000)\n",
    "x = np.cos(t)\n",
    "y = np.sin(t)\n",
    "z = t\n",
    "\n",
    "# Create subplots\n",
    "fig = plotly.subplots.make_subplots(\n",
    "    rows=1,\n",
    "    cols=2,\n",
    "    specs=[[{\"type\": \"scene\"}, {\"type\": \"scene\"}]],\n",
    "    subplot_titles=(\"Left-Handed Helix\", \"Right-Handed Helix\"),\n",
    ")\n",
    "\n",
    "\n",
    "# Add left-handed helix (note the negative y values)\n",
    "fig.add_trace(\n",
    "    go.Scatter3d(\n",
    "        x=x,\n",
    "        y=-y,\n",
    "        z=z,\n",
    "        mode=\"lines\",\n",
    "        line=dict(width=5, color=z, colorscale=\"plasma\"),\n",
    "        showlegend=False,\n",
    "    ),\n",
    "    row=1,\n",
    "    col=1,\n",
    ")\n",
    "\n",
    "\n",
    "# Add right-handed helix\n",
    "fig.add_trace(\n",
    "    go.Scatter3d(\n",
    "        x=x,\n",
    "        y=y,\n",
    "        z=z,\n",
    "        mode=\"lines\",\n",
    "        line=dict(width=5, color=z, colorscale=\"plasma\"),\n",
    "        showlegend=False,\n",
    "    ),\n",
    "    row=1,\n",
    "    col=2,\n",
    ")\n",
    "\n",
    "# Show the plot\n",
    "axis = dict(\n",
    "    title=\"\",\n",
    "    showticklabels=False,\n",
    "    showgrid=False,\n",
    "    zeroline=False,\n",
    "    backgroundcolor=\"rgba(255,255,255,255)\",\n",
    ")\n",
    "fig.update_layout(\n",
    "    scene=dict(\n",
    "        xaxis=axis,\n",
    "        yaxis=axis,\n",
    "        zaxis=axis,\n",
    "    ),\n",
    "    scene2=dict(\n",
    "        xaxis=axis,\n",
    "        yaxis=axis,\n",
    "        zaxis=axis,\n",
    "    ),\n",
    ")\n",
    "fig.show()"
   ]
  },
  {
   "cell_type": "markdown",
   "metadata": {},
   "source": [
    "An example of something that would not remain unchanged under rotation are the forces acting on the atoms in the molecule.\n",
    "These forces transform in a specific way under rotations and reflections. Under a rotation $\\R$, the force represented by the vector $f$ transforms to $\\R f$, where $\\R$ is represented as a rotation matrix:\n",
    "$$\n",
    "f \\mapsto_\\R \\R f\n",
    "$$\n",
    "We term such properties as 'vectors'."
   ]
  },
  {
   "cell_type": "code",
   "execution_count": null,
   "metadata": {},
   "outputs": [],
   "source": [
    "# The notation 1o is a short form for (l, p) = (1, -1).\n",
    "# l = 1 means that the quantity is transformed as a vector under rotations.\n",
    "# p = 1 means that the quantity flips sign under reflections, (ie odd).\n",
    "forces = e3nn.IrrepsArray(\n",
    "    \"1o\", jnp.asarray([[1.0, 0.0, 2.0], [0.0, 5.0, 3.0], [1.0, 1.0, 1.0]])\n",
    ")\n",
    "rotated_forces = forces.transform_by_matrix(R)\n",
    "reflected_forces = forces.transform_by_matrix(-R)\n",
    "\n",
    "print(\"Observed forces after rotation:\", rotated_forces.array)\n",
    "print(\"Expected forces after rotation:\", forces.array @ R.T)\n",
    "print()\n",
    "print(\"Observed forces after reflection:\", reflected_forces.array)\n",
    "print(\"Expected forces after reflection:\", forces.array @ -R.T)"
   ]
  },
  {
   "cell_type": "markdown",
   "metadata": {},
   "source": [
    "Note that under inversion, the force vector $f$ transforms to $-f$, so vectors have odd parity under inversion.\n",
    "\n",
    "A [pseudo-vector](https://en.wikipedia.org/wiki/Pseudovector) is a quantity that transforms as a vector under rotations, but does not change sign under reflections:\n",
    "$$\n",
    "v \\mapsto_\\R \\R v, \\quad v \\mapsto_{-I} v\n",
    "$$\n",
    "\n",
    "An example of a pseudo-vector is the cross product of two vectors.\n",
    "$$\n",
    "\\text{cross}(\\mathbf{-a}, \\mathbf{-b}) = \\mathbf{-a} \\times \\mathbf{-b} = \\mathbf{a} \\times \\mathbf{b} = \\text{cross}(\\mathbf{a}, \\mathbf{b})\n",
    "$$"
   ]
  },
  {
   "cell_type": "code",
   "execution_count": null,
   "metadata": {},
   "outputs": [],
   "source": [
    "# Plot the cross product of two vectors.\n",
    "# Define two vectors\n",
    "v1 = np.array([2, 3, 1])\n",
    "v2 = np.array([1, -1, 1])\n",
    "\n",
    "# Calculate the cross product\n",
    "v3 = np.cross(v1, v2)\n",
    "\n",
    "# Create a list of vectors\n",
    "vectors = [v1, v2, v3]\n",
    "names = [\"v1\", \"v2\", \"cross(v1, v2)\"]\n",
    "inverse_vectors = [-v1, -v2, np.cross(-v1, -v2)]\n",
    "inverse_names = [\"-v1\", \"-v2\", \"cross(-v1, -v2)\"]\n",
    "\n",
    "colors = [\"red\", \"blue\", \"green\"]\n",
    "\n",
    "# Create the 3D scatter plot\n",
    "fig = plotly.subplots.make_subplots(\n",
    "    rows=1,\n",
    "    cols=2,\n",
    "    specs=[[{\"type\": \"scene\"}, {\"type\": \"scene\"}]],\n",
    "    subplot_titles=(\"Original Vectors\", \"After Inverting v1 and v2\"),\n",
    ")\n",
    "\n",
    "for col, [vectors_list, names_list] in enumerate(\n",
    "    zip([vectors, inverse_vectors], [names, inverse_names]), start=1\n",
    "):\n",
    "    for vec, color, name in zip(vectors_list, colors, names_list):\n",
    "        # Plot the vectors\n",
    "        fig.add_trace(\n",
    "            go.Scatter3d(\n",
    "                x=[0, vec[0]],\n",
    "                y=[0, vec[1]],\n",
    "                z=[0, vec[2]],\n",
    "                mode=\"lines\",\n",
    "                line=dict(width=5, color=color),\n",
    "                name=name,\n",
    "                showlegend=(col == 1),\n",
    "            ),\n",
    "            row=1,\n",
    "            col=col,\n",
    "        )\n",
    "\n",
    "        # Add dots at the end of each vector\n",
    "        fig.add_trace(\n",
    "            go.Scatter3d(\n",
    "                x=[vec[0]],\n",
    "                y=[vec[1]],\n",
    "                z=[vec[2]],\n",
    "                mode=\"markers\",\n",
    "                marker=dict(size=5, color=color),\n",
    "                name=name + \" endpoint\",\n",
    "                showlegend=False,\n",
    "            ),\n",
    "            row=1,\n",
    "            col=col,\n",
    "        )\n",
    "\n",
    "\n",
    "fig.update_layout(title_text=\"The Cross Product is a Pseudo-Vector\")\n",
    "fig.update_layout(\n",
    "    scene=dict(\n",
    "        xaxis=dict(range=[-6, 6], **axis),\n",
    "        yaxis=dict(range=[-6, 6], **axis),\n",
    "        zaxis=dict(range=[-6, 6], **axis),\n",
    "    )\n",
    ")\n",
    "fig.update_layout(\n",
    "    scene2=dict(\n",
    "        xaxis=dict(range=[-6, 6], **axis),\n",
    "        yaxis=dict(range=[-6, 6], **axis),\n",
    "        zaxis=dict(range=[-6, 6], **axis),\n",
    "    )\n",
    ")\n",
    "\n",
    "# Show the plot\n",
    "fig.show()"
   ]
  },
  {
   "cell_type": "markdown",
   "metadata": {},
   "source": [
    "To keep track of how these different quantity transform under rotations and reflections, e3nn uses the concept of 'irreducible representations' (irreps) of the group O(3). Each irrep corresponds to a specific way in which the quantity transforms under rotations and reflections. For example, is the given quantity a scalar, vector, pseudo-scalar, or pseudo-vector?\n",
    "[Representation theory](https://sites.ualberta.ca/~vbouchar/MAPH464/section-representation-so3-tensors.html) tells us that there are actually many more kinds of quantities, actually an infinite number of them, that can transform under rotations and reflections in different ways.\n",
    "\n",
    "\n",
    "**Irreducible Representations**: An irrep of O(3) is characterized by two numbers: $(l, p)$, where $l$ is the 'angular momentum' and $p$ is the parity under inversion.\n",
    "$l$ can take values $0, 1, 2, ...$ and $p$ can take values $+1$ (even) or $-1$ (odd).\n",
    "\n",
    "People often use the terminology 'x is an $(l, p)$-irrep of O(3)' to mean that x is a quantity that transforms according to the irrep $(l, p)$. We will also use this terminology for convenience.\n",
    "\n",
    "To be precise, if $v$ is an irrep of type $(l, p)$, then it has dimension $2l + 1$, and transforms under rotations $R$ according to the [Wigner D-matrix](https://en.wikipedia.org/wiki/Wigner_D-matrix) of $\\R$:\n",
    "$$\n",
    "v \\mapsto_\\R D^{(l)}(\\R) v\n",
    "$$\n",
    "and under inversion, according to the parity $p$:\n",
    "$$\n",
    "v \\mapsto_{-I} p v\n",
    "$$\n",
    "\n",
    "From our discussion above, we can see that scalars correspond to the irrep $(0, +1)$, vectors correspond to the irrep $(1, -1)$, pseudo-scalars correspond to the irrep $(0, -1)$, and pseudo-vectors correspond to the irrep $(1, +1)$.\n",
    "\n",
    "Hence,\n",
    "$$\n",
    "D^{(0)}(\\R) = 1, \\quad D^{(1)}(\\R) = \\R\n",
    "$$\n",
    "The Wigner D-matrices are orthogonal matrices.\n",
    "\n",
    "In e3nn, we keep track of how each quantity transforms under rotations and inversions by assigning it an irrep. The combination of the irreps with the actual data is called an IrrepsArray."
   ]
  },
  {
   "cell_type": "code",
   "execution_count": null,
   "metadata": {},
   "outputs": [],
   "source": [
    "x = e3nn.IrrepsArray(\"0e + 1o\", jnp.asarray([0.5, 1.0, 0.0, 2.0]))\n",
    "print(x.irreps, x.array)\n",
    "print(\"Printing the chunks:\")\n",
    "for irrep, chunk in zip(x.irreps, x.chunks):\n",
    "    print(irrep, chunk)"
   ]
  },
  {
   "cell_type": "markdown",
   "metadata": {},
   "source": [
    "### Tensor Products\n",
    "\n",
    "Given two IrrepsArrays, we can create a new IrrepsArray via the equivariant Clebsch-Gordan tensor product. This tensor product reduces a tensor product of two irreps into a sum of irreps. This is a key operation in e3nn, and it can be used to build equivariant neural networks. "
   ]
  },
  {
   "cell_type": "code",
   "execution_count": null,
   "metadata": {},
   "outputs": [],
   "source": [
    "x1 = e3nn.IrrepsArray(\"1o\", jnp.asarray([10.0, 5.0, 2.0]))\n",
    "x2 = e3nn.IrrepsArray(\"1o\", jnp.asarray([7.0, 1.0, 1.0]))\n",
    "\n",
    "y = e3nn.tensor_product(x1, x2)\n",
    "y"
   ]
  },
  {
   "cell_type": "markdown",
   "metadata": {},
   "source": [
    "You will notice that the (scalar) \"0e\" component above corresponds to the dot product of the two vectors. And clearly, the dot product is invariant under rotations and reflections."
   ]
  },
  {
   "cell_type": "code",
   "execution_count": null,
   "metadata": {},
   "outputs": [],
   "source": [
    "e3nn.dot(x1, x2) / jnp.sqrt(3), y.slice_by_chunk[:1]"
   ]
  },
  {
   "cell_type": "markdown",
   "metadata": {},
   "source": [
    "Similarly, the \"1e\" component corresponds to the cross product of the two vectors. The cross product is a pseudovector because it does not change sign under reflections, unlike a vector:\n",
    "$$\n",
    "\\text{cross}(\\mathbf{-a}, \\mathbf{-b}) = \\mathbf{-a} \\times \\mathbf{-b} = \\mathbf{a} \\times \\mathbf{b} = \\text{cross}(\\mathbf{a}, \\mathbf{b})\n",
    "$$"
   ]
  },
  {
   "cell_type": "code",
   "execution_count": null,
   "metadata": {},
   "outputs": [],
   "source": [
    "e3nn.cross(x1, x2) / jnp.sqrt(2), y.slice_by_chunk[1:2]"
   ]
  },
  {
   "cell_type": "markdown",
   "metadata": {},
   "source": [
    "The \"2e\" component corresponds to the symmetric traceless part of the outer product of the two vectors. This does not transform as a scalar or a vector. This is an example of a higher-order equivariant feature!"
   ]
  },
  {
   "cell_type": "code",
   "execution_count": null,
   "metadata": {},
   "outputs": [],
   "source": [
    "x1x, x1y, x1z = x1.array\n",
    "x2x, x2y, x2z = x2.array\n",
    "\n",
    "(\n",
    "    jnp.asarray(\n",
    "        [\n",
    "            x1z * x2x + x1x * x2z,\n",
    "            x1x * x2y + x1y * x2x,\n",
    "            jnp.sqrt(4 / 3) * ((x1y * x2y) - (x1x * x2x + x1z * x2z) / 2),\n",
    "            x1y * x2z + x1z * x2y,\n",
    "            x1z * x2z - x1x * x2x,\n",
    "        ]\n",
    "    ) / jnp.sqrt(2),\n",
    "    y.slice_by_chunk[2:3],\n",
    ")"
   ]
  },
  {
   "cell_type": "markdown",
   "metadata": {},
   "source": [
    "We see that the \"2e\" component has dimension 5, as expected.\n",
    "In general, the tensor product of two irreps of type $(l_1, p_1)$ and $(l_2, p_2)$ will be a sum of irreps of the form $(l, p)$ with $|l_1 - l_2| \\leq l \\leq l_1 + l_2$. Thus, we can build higher-order equivariant features by taking tensor products of lower-order features."
   ]
  },
  {
   "cell_type": "markdown",
   "metadata": {},
   "source": [
    "If you are interested in learning more about the various kinds of equivariant tensor products that people have designed, you should check out our [recent GRaM paper](https://openreview.net/forum?id=0HHidbjwcf)!"
   ]
  }
 ],
 "metadata": {
  "kernelspec": {
   "display_name": "symphony",
   "language": "python",
   "name": "python3"
  },
  "language_info": {
   "codemirror_mode": {
    "name": "ipython",
    "version": 3
   },
   "file_extension": ".py",
   "mimetype": "text/x-python",
   "name": "python",
   "nbconvert_exporter": "python",
   "pygments_lexer": "ipython3",
   "version": "3.10.12"
  }
 },
 "nbformat": 4,
 "nbformat_minor": 2
}
