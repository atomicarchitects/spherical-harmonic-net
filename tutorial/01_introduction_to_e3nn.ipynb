{
 "cells": [
  {
   "cell_type": "markdown",
   "metadata": {},
   "source": [
    "## 1. Introduction to e3nn-jax\n",
    "\n",
    "[e3nn-jax](https://github.com/e3nn/e3nn-jax) is the [JAX](https://github.com/google/jax) implementation of the [e3nn](https://github.com/e3nn/e3nn) library that was originally written in PyTorch. JAX is a Python framework for numerical computing that allows for automatic differentiation and just-in-time compilation.\n",
    "\n",
    "This notebook will provide a small introduction to the e3nn-jax library and show how to use it to build equivariant neural networks.\n",
    "For more details on the e3nn library, please refer to the [e3nn paper](https://arxiv.org/abs/2207.09453). \n"
   ]
  },
  {
   "cell_type": "code",
   "execution_count": null,
   "metadata": {},
   "outputs": [],
   "source": [
    "# Imports\n",
    "import e3nn_jax as e3nn\n",
    "import jax\n",
    "import jax.numpy as jnp\n",
    "import plotly.graph_objects as go"
   ]
  },
  {
   "cell_type": "markdown",
   "metadata": {},
   "source": [
    "e3nn provides a way to build neural networks that understand 3D rotations and reflections.\n",
    "\n",
    "What does this mean? Let's consider the example of a molecule, which consists of atoms living in 3D space. The molecule can be rotated and reflected in space, but the underlying physics of the molecule does not change.\n",
    "\n",
    "For example, the energy of the molecule does not change under rotations and reflections. We term such properties as 'invariants' or 'scalars'.\n"
   ]
  },
  {
   "cell_type": "code",
   "execution_count": null,
   "metadata": {},
   "outputs": [],
   "source": [
    "# Create a random rotation.\n",
    "key = jax.random.PRNGKey(0) # Key for random number generation.\n",
    "R = e3nn.rand_matrix(key)"
   ]
  },
  {
   "cell_type": "code",
   "execution_count": null,
   "metadata": {},
   "outputs": [],
   "source": [
    "# The notation 0e is a short form for (l, p) = (0, 1).\n",
    "# l = 0 means that the quantity is invariant under rotations.\n",
    "# p = 1 means that the quantity is invariant under reflections, (ie even).\n",
    "energy = e3nn.IrrepsArray(\"0e\", jnp.asarray([0.5]))\n",
    "rotated_energy = energy.transform_by_matrix(R)\n",
    "reflected_energy = energy.transform_by_matrix(-R)\n",
    "\n",
    "print(\"Observed energy after rotation:\", rotated_energy)\n",
    "print(\"Expected energy after rotation:\", energy)\n",
    "print()\n",
    "print(\"Observed energy after reflection:\", reflected_energy)\n",
    "print(\"Expected energy after reflection:\", energy)\n"
   ]
  },
  {
   "cell_type": "markdown",
   "metadata": {},
   "source": [
    "An example of something that would not remain unchanged under rotation are the forces acting on the atoms in the molecule.\n",
    "These forces transform in a specific way under rotations and reflections: under a rotation $R$, the force represented by $f$ transforms to $R f$, where $R$ is represented as a rotation matrix.\n",
    "We term such properties as 'vectors'."
   ]
  },
  {
   "cell_type": "code",
   "execution_count": null,
   "metadata": {},
   "outputs": [],
   "source": [
    "# The notation 1o is a short form for (l, p) = (1, -1).\n",
    "# l = 1 means that the quantity is transformed as a vector under rotations.\n",
    "# p = 1 means that the quantity flips sign under reflections, (ie odd).\n",
    "forces = e3nn.IrrepsArray(\"1o\", jnp.asarray([[1.0, 0.0, 2.0],\n",
    "                                             [0.0, 5.0, 3.0],\n",
    "                                             [1.0, 1.0, 1.0]]))\n",
    "rotated_forces = forces.transform_by_matrix(R)\n",
    "reflected_forces = forces.transform_by_matrix(-R)\n",
    "\n",
    "print(\"Observed forces after rotation:\", rotated_forces.array)\n",
    "print(\"Expected forces after rotation:\", forces.array @ R.T)\n",
    "print()\n",
    "print(\"Observed forces after reflection:\", reflected_forces.array)\n",
    "print(\"Expected forces after reflection:\", forces.array @ -R.T)\n",
    "\n",
    "      \n",
    "go.Figure(data=[go.Scatter3d(x=forces.array[:, 0], y=forces.array[:, 1], z=forces.array[:, 2], mode='markers', name='Original Forces'),\n",
    "                go.Scatter3d(x=rotated_forces.array[:, 0], y=rotated_forces.array[:, 1], z=rotated_forces.array[:, 2], mode='markers', name='Rotated Forces')]).show()\n",
    "                "
   ]
  },
  {
   "cell_type": "markdown",
   "metadata": {},
   "source": [
    "To keep track of how these different objects transform under rotations and reflections, e3nn uses the concept of 'irreducible representations' (irreps) of the 3D orthonormal group, O(3). \n",
    "Each irrep corresponds to a specific way in which the object transforms under rotations and reflections. \n",
    "\n",
    "An irrep is characterized by two numbers: $(l, p)$, where $l$ is the 'angular momentum' and $p$ is the parity. \n",
    "$l$ can take values $0, 1, 2, ...$ and $p$ can take values $+1$ or $-1$. The scalar irrep $(0, +1)$ corresponds to scalars, the vector irrep $(1, -1)$ corresponds to vectors, and so on.\n",
    "If you have heard of [pseudoscalars](https://en.wikipedia.org/wiki/Pseudoscalar) or [pseudovectors](https://en.wikipedia.org/wiki/Pseudovector), these correspond to the irrep $(0, -1)$ and $(1, +1)$ respectively.\n",
    "\n",
    "In e3nn, we keep track of how each quantity transforms under rotations and reflections by assigning it an irrep. The combination of the irreps with the actual data is called an IrrepsArray."
   ]
  },
  {
   "cell_type": "code",
   "execution_count": null,
   "metadata": {},
   "outputs": [],
   "source": [
    "x = e3nn.IrrepsArray(\"0e + 1o\", jnp.asarray([0.5, 1.0, 0.0, 2.0]))\n",
    "print(x.irreps, x.array)\n",
    "print(\"Printing the chunks:\")\n",
    "for irrep, chunk in zip(x.irreps, x.chunks):\n",
    "    print(irrep, chunk)"
   ]
  },
  {
   "cell_type": "markdown",
   "metadata": {},
   "source": [
    "Given two IrrepsArrays, we can create a new IrrepsArray via the equivariant Clebsch-Gordan tensor product. This tensor product reduces a tensor product of two irreps into a sum of irreps. This is a key operation in e3nn, and it can be used to build equivariant neural networks. "
   ]
  },
  {
   "cell_type": "code",
   "execution_count": null,
   "metadata": {},
   "outputs": [],
   "source": [
    "x1 = e3nn.IrrepsArray(\"1o\", jnp.asarray([1.0, 2.0, 3.0]))\n",
    "x2 = e3nn.IrrepsArray(\"1o\", jnp.asarray([2.0, 5.0, 9.0]))\n",
    "\n",
    "y = e3nn.tensor_product(x1, x2)\n",
    "print(y)"
   ]
  },
  {
   "cell_type": "markdown",
   "metadata": {},
   "source": [
    "You will notice that the (scalar) \"0e\" component above corresponds to the dot product of the two vectors. And clearly, the dot product is invariant under rotations and reflections."
   ]
  },
  {
   "cell_type": "code",
   "execution_count": null,
   "metadata": {},
   "outputs": [],
   "source": [
    "e3nn.dot(x1, x2) / jnp.sqrt(3), y.slice_by_chunk[:1]"
   ]
  },
  {
   "cell_type": "markdown",
   "metadata": {},
   "source": [
    "Similarly, the \"1e\" component corresponds to the cross product of the two vectors. The cross product is a pseudovector because it does not change sign under reflections, unlike a vector:\n",
    "$$\n",
    "\\text{cross}(\\mathbf{-a}, \\mathbf{-b}) = \\mathbf{-a} \\times \\mathbf{-b} = \\mathbf{a} \\times \\mathbf{b} = \\text{cross}(\\mathbf{a}, \\mathbf{b})\n",
    "$$"
   ]
  },
  {
   "cell_type": "code",
   "execution_count": null,
   "metadata": {},
   "outputs": [],
   "source": [
    "e3nn.cross(x1, x2) / jnp.sqrt(2), y.slice_by_chunk[1:2]"
   ]
  },
  {
   "cell_type": "markdown",
   "metadata": {},
   "source": [
    "The \"2e\" component corresponds to the symmetric traceless part of the outer product of the two vectors. This does not transform as a scalar or a vector, but as a rank-2 tensor. This is an example of a higher-order tensor that can be used to build more complex equivariant neural networks!"
   ]
  },
  {
   "cell_type": "code",
   "execution_count": null,
   "metadata": {},
   "outputs": [],
   "source": [
    "y.slice_by_chunk[2:3]"
   ]
  },
  {
   "cell_type": "markdown",
   "metadata": {},
   "source": [
    "We see that the \"2e\" component has dimension 5.\n",
    "In general, an irrep of the form $(l, p)$ has dimension $2l + 1$."
   ]
  },
  {
   "cell_type": "markdown",
   "metadata": {},
   "source": [
    "If you are interested in the various kinds of equivariant tensor products that people have designed, you should check out our [recent paper](https://openreview.net/forum?id=0HHidbjwcf)!"
   ]
  }
 ],
 "metadata": {
  "kernelspec": {
   "display_name": "symphony",
   "language": "python",
   "name": "python3"
  },
  "language_info": {
   "codemirror_mode": {
    "name": "ipython",
    "version": 3
   },
   "file_extension": ".py",
   "mimetype": "text/x-python",
   "name": "python",
   "nbconvert_exporter": "python",
   "pygments_lexer": "ipython3",
   "version": "3.10.14"
  }
 },
 "nbformat": 4,
 "nbformat_minor": 2
}
