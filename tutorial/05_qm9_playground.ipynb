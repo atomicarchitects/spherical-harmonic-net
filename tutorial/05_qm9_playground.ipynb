{
 "cells": [
  {
   "cell_type": "markdown",
   "metadata": {},
   "source": [
    "## 4. Symphony on QM9\n",
    "\n",
    "Here, you can play around with a pre-trained Symphony model on the QM9 dataset."
   ]
  },
  {
   "cell_type": "code",
   "execution_count": null,
   "metadata": {},
   "outputs": [],
   "source": [
    "%load_ext autoreload\n",
    "%autoreload 2"
   ]
  },
  {
   "cell_type": "code",
   "execution_count": null,
   "metadata": {},
   "outputs": [],
   "source": [
    "import os\n",
    "os.environ[\"CUDA_VISIBLE_DEVICES\"] = \"2\""
   ]
  },
  {
   "cell_type": "code",
   "execution_count": null,
   "metadata": {},
   "outputs": [],
   "source": [
    "# Imports\n",
    "from typing import List\n",
    "import jax\n",
    "import jax.numpy as jnp\n",
    "import jraph\n",
    "import pickle\n",
    "import numpy as np\n",
    "import plotly.graph_objects as go\n",
    "\n",
    "import sys\n",
    "sys.path.append(\"../\")\n",
    "\n",
    "import tutorial.visualizer as visualizer\n",
    "import tutorial.tutorial_utils as tutorial_utils"
   ]
  },
  {
   "cell_type": "code",
   "execution_count": null,
   "metadata": {},
   "outputs": [],
   "source": [
    "model, params, config = tutorial_utils.load_model_at_step(\n",
    "    workdir=\"./workdir\",\n",
    "    step=\"best\",\n",
    "    run_in_evaluation_mode=True,\n",
    ")"
   ]
  },
  {
   "cell_type": "markdown",
   "metadata": {},
   "source": [
    "Load some fragments from QM9. We have extracted some fragments from QM9 already, with the following code:\n"
   ]
  },
  {
   "cell_type": "code",
   "execution_count": null,
   "metadata": {},
   "outputs": [],
   "source": [
    "saved_fragments_path = \"./data/qm9_fragments_list.pkl\"\n",
    "\n",
    "if os.path.exists(saved_fragments_path):\n",
    "    with open(saved_fragments_path, \"rb\") as f:\n",
    "        molecule_fragments = pickle.load(f)\n",
    "\n",
    "else:\n",
    "    from symphony.data import qm9\n",
    "    from symphony.data import fragments\n",
    "\n",
    "    # Load the QM9 dataset.    \n",
    "    molecules = qm9.load_qm9(\"./data/qm9\", use_edm_splits=True, check_molecule_sanity=False)\n",
    "    \n",
    "    # We pick the first molecule in the dataset.\n",
    "    molecule = molecules[0]\n",
    "    molecule_graph = tutorial_utils.ase_atoms_to_jraph_graph(\n",
    "        atoms=molecules,\n",
    "        atomic_numbers=np.asarray([1, 6, 7, 8, 9]),\n",
    "        nn_cutoff=config.nn_cutoff\n",
    "    )\n",
    "    molecule_fragments = fragments.generate_fragments(\n",
    "        jax.random.PRNGKey(0),\n",
    "        molecule_graph,\n",
    "        n_species=5,\n",
    "        nn_tolerance=config.nn_tolerance,\n",
    "        mode=\"nn\",\n",
    "    )\n",
    "    molecule_fragments = list(molecule_fragments)\n",
    "\n",
    "    with open(saved_fragments_path, \"wb\") as f:\n",
    "        pickle.dump(molecule_fragments, f)"
   ]
  },
  {
   "cell_type": "markdown",
   "metadata": {},
   "source": [
    "We start off with a fragment with a single atom."
   ]
  },
  {
   "cell_type": "code",
   "execution_count": null,
   "metadata": {},
   "outputs": [],
   "source": [
    "visualizer.visualize_fragment(molecule_fragments[0])"
   ]
  },
  {
   "cell_type": "markdown",
   "metadata": {},
   "source": [
    "... which grows into a larger fragment:"
   ]
  },
  {
   "cell_type": "code",
   "execution_count": null,
   "metadata": {},
   "outputs": [],
   "source": [
    "visualizer.visualize_fragment(molecule_fragments[1])"
   ]
  },
  {
   "cell_type": "code",
   "execution_count": null,
   "metadata": {},
   "outputs": [],
   "source": [
    "visualizer.visualize_fragment(molecule_fragments[5])"
   ]
  },
  {
   "cell_type": "markdown",
   "metadata": {},
   "source": [
    "and end up with a molecule!"
   ]
  },
  {
   "cell_type": "code",
   "execution_count": null,
   "metadata": {},
   "outputs": [],
   "source": [
    "visualizer.visualize_fragment(molecule_fragments[-1])"
   ]
  },
  {
   "cell_type": "markdown",
   "metadata": {},
   "source": [
    "We can query Symphony for the next atom in the sequence.\n",
    "We could do this recursively to generate whole molecules, but here we'll just generate one atom starting from each fragment.\n",
    "Note that the model has seen many different sequences of atoms, so its predictions may not match the sequence of fragments here!"
   ]
  },
  {
   "cell_type": "code",
   "execution_count": null,
   "metadata": {},
   "outputs": [],
   "source": [
    "apply_rng = jax.random.PRNGKey(0)\n",
    "preds = jax.jit(model.apply)(\n",
    "    params,\n",
    "    apply_rng,\n",
    "    jraph.batch(molecule_fragments),\n",
    "    focus_and_atom_type_inverse_temperature=1.0,\n",
    "    position_inverse_temperature=1.0\n",
    ")\n",
    "\n",
    "fixed_preds = []\n",
    "for index, (fragment, pred) in enumerate(\n",
    "    zip(molecule_fragments, jraph.unbatch(preds))\n",
    "):\n",
    "    # Remove batch dimension.\n",
    "    # Also, correct the focus indices.\n",
    "    pred = pred._replace(\n",
    "        globals=jax.tree_util.tree_map(lambda x: np.squeeze(x, axis=0), pred.globals)\n",
    "    )\n",
    "    corrected_focus_indices = (\n",
    "        pred.globals.focus_indices - preds.n_node[:index].sum()\n",
    "    )\n",
    "    pred = pred._replace(\n",
    "        globals=pred.globals._replace(focus_indices=corrected_focus_indices)\n",
    "    )\n",
    "\n",
    "    fixed_preds.append(pred)"
   ]
  },
  {
   "cell_type": "code",
   "execution_count": null,
   "metadata": {},
   "outputs": [],
   "source": [
    "visualizer.visualize_predictions(fixed_preds[0], molecule_fragments[0], showlegend=True)"
   ]
  },
  {
   "cell_type": "code",
   "execution_count": null,
   "metadata": {},
   "outputs": [],
   "source": [
    "visualizer.visualize_predictions(fixed_preds[1], molecule_fragments[1], showlegend=True)"
   ]
  },
  {
   "cell_type": "code",
   "execution_count": null,
   "metadata": {},
   "outputs": [],
   "source": [
    "visualizer.visualize_predictions(fixed_preds[5], molecule_fragments[5], showlegend=True)"
   ]
  },
  {
   "cell_type": "code",
   "execution_count": null,
   "metadata": {},
   "outputs": [],
   "source": [
    "visualizer.visualize_predictions(fixed_preds[-1], molecule_fragments[-1], showlegend=True)"
   ]
  }
 ],
 "metadata": {
  "kernelspec": {
   "display_name": "symphony",
   "language": "python",
   "name": "python3"
  },
  "language_info": {
   "codemirror_mode": {
    "name": "ipython",
    "version": 3
   },
   "file_extension": ".py",
   "mimetype": "text/x-python",
   "name": "python",
   "nbconvert_exporter": "python",
   "pygments_lexer": "ipython3",
   "version": "3.10.12"
  }
 },
 "nbformat": 4,
 "nbformat_minor": 2
}
