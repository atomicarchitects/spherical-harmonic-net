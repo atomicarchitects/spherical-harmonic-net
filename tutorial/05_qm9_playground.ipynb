{
 "cells": [
  {
   "cell_type": "markdown",
   "metadata": {},
   "source": [
    "## Symphony on QM9\n",
    "\n",
    "Here, you can play around with a pre-trained Symphony model on the QM9 dataset."
   ]
  },
  {
   "cell_type": "code",
   "execution_count": null,
   "metadata": {},
   "outputs": [],
   "source": [
    "import os\n",
    "os.environ[\"CUDA_VISIBLE_DEVICES\"] = \"2\""
   ]
  },
  {
   "cell_type": "code",
   "execution_count": null,
   "metadata": {},
   "outputs": [],
   "source": [
    "# Imports\n",
    "from typing import List\n",
    "import jax\n",
    "import jax.numpy as jnp\n",
    "import jraph\n",
    "import pickle\n",
    "import numpy as np\n",
    "import plotly.graph_objects as go\n",
    "\n",
    "import sys\n",
    "sys.path.append(\"../\")\n",
    "\n",
    "from symphony import models\n",
    "from symphony.data import input_pipeline\n",
    "from analyses import visualizer\n",
    "import configs.qm9.nequip as tutorial_config"
   ]
  },
  {
   "cell_type": "code",
   "execution_count": null,
   "metadata": {},
   "outputs": [],
   "source": [
    "config = tutorial_config.get_config()"
   ]
  },
  {
   "cell_type": "markdown",
   "metadata": {},
   "source": [
    "Load some fragments from QM9. We have extracted some fragments from QM9 already, with the following code:\n"
   ]
  },
  {
   "cell_type": "code",
   "execution_count": null,
   "metadata": {},
   "outputs": [],
   "source": [
    "saved_fragments_path = \"./data/qm9_fragments_list.pkl\"\n",
    "\n",
    "if os.path.exists(saved_fragments_path):\n",
    "    with open(saved_fragments_path, \"rb\") as f:\n",
    "        unbatched_fragments = pickle.load(f)\n",
    "\n",
    "else:\n",
    "    config.root_dir = \"./data/qm9\"\n",
    "    rng = jax.random.PRNGKey(0)\n",
    "    ds = input_pipeline.get_datasets(rng, config)\n",
    "    fragments = next(ds[\"train\"])\n",
    "\n",
    "    def unbatch(fragments: jraph.GraphsTuple) -> List[jraph.GraphsTuple]:\n",
    "        \"\"\"Unbatch a batch of fragments.\"\"\"\n",
    "        # Remove padding from the fragments to visualize them.\n",
    "        fragments = jraph.unpad_with_graphs(fragments)\n",
    "\n",
    "        # Unbatch the fragments, and remove the batch dimension from the globals.\n",
    "        unbatched_fragments = jraph.unbatch(fragments)\n",
    "\n",
    "        return [\n",
    "            fragment._replace(\n",
    "                globals=jax.tree_util.tree_map(\n",
    "                    lambda x: np.squeeze(x, axis=0), fragment.globals\n",
    "                )\n",
    "            )\n",
    "            for fragment in unbatched_fragments\n",
    "        ]\n",
    "\n",
    "    # We all fragments for the first molecule.\n",
    "    unbatched_fragments = unbatch(fragments)\n",
    "    first_stop = [fragment.globals.stop for fragment in unbatched_fragments].index(True)\n",
    "    unbatched_fragments = unbatched_fragments[:first_stop + 1]\n",
    "\n",
    "    with open(saved_fragments_path, \"wb\") as f:\n",
    "        pickle.dump(unbatched_fragments, f)"
   ]
  },
  {
   "cell_type": "markdown",
   "metadata": {},
   "source": [
    "We start off with a fragment with a single atom."
   ]
  },
  {
   "cell_type": "code",
   "execution_count": null,
   "metadata": {},
   "outputs": [],
   "source": [
    "visualizer.visualize_fragment(unbatched_fragments[0])"
   ]
  },
  {
   "cell_type": "markdown",
   "metadata": {},
   "source": [
    "... which grows into a larger fragment:"
   ]
  },
  {
   "cell_type": "code",
   "execution_count": null,
   "metadata": {},
   "outputs": [],
   "source": [
    "visualizer.visualize_fragment(unbatched_fragments[1])"
   ]
  },
  {
   "cell_type": "code",
   "execution_count": null,
   "metadata": {},
   "outputs": [],
   "source": [
    "visualizer.visualize_fragment(unbatched_fragments[5])"
   ]
  },
  {
   "cell_type": "markdown",
   "metadata": {},
   "source": [
    "and end up with a molecule!"
   ]
  },
  {
   "cell_type": "code",
   "execution_count": null,
   "metadata": {},
   "outputs": [],
   "source": [
    "visualizer.visualize_fragment(unbatched_fragments[-1])"
   ]
  },
  {
   "cell_type": "markdown",
   "metadata": {},
   "source": [
    "Add step-by-step predictions."
   ]
  },
  {
   "cell_type": "code",
   "execution_count": null,
   "metadata": {},
   "outputs": [],
   "source": [
    "model = models.create_model(config, run_in_evaluation_mode=True)"
   ]
  }
 ],
 "metadata": {
  "kernelspec": {
   "display_name": "symphony",
   "language": "python",
   "name": "python3"
  },
  "language_info": {
   "codemirror_mode": {
    "name": "ipython",
    "version": 3
   },
   "file_extension": ".py",
   "mimetype": "text/x-python",
   "name": "python",
   "nbconvert_exporter": "python",
   "pygments_lexer": "ipython3",
   "version": "3.10.12"
  }
 },
 "nbformat": 4,
 "nbformat_minor": 2
}
