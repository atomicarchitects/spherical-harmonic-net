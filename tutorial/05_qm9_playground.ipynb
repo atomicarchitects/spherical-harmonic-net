{
 "cells": [
  {
   "cell_type": "markdown",
   "metadata": {},
   "source": [
    "## Symphony on QM9\n",
    "\n",
    "Here, you can play around with a pre-trained Symphony model on the QM9 dataset."
   ]
  },
  {
   "cell_type": "code",
   "execution_count": null,
   "metadata": {},
   "outputs": [],
   "source": [
    "%load_ext autoreload\n",
    "%autoreload 2"
   ]
  },
  {
   "cell_type": "code",
   "execution_count": null,
   "metadata": {},
   "outputs": [],
   "source": [
    "# Imports\n",
    "import jax\n",
    "import jax.numpy as jnp\n",
    "import jraph\n",
    "import nequip_jax\n",
    "import haiku as hk\n",
    "import numpy as np\n",
    "import plotly.graph_objects as go\n",
    "\n",
    "import sys\n",
    "sys.path.append('../')\n",
    "\n",
    "from symphony import models\n",
    "from symphony.data import input_pipeline\n",
    "from analyses import visualizer \n",
    "import configs.qm9.nequip as tutorial_config\n"
   ]
  },
  {
   "cell_type": "markdown",
   "metadata": {},
   "source": [
    "Define the message-passing network."
   ]
  },
  {
   "cell_type": "code",
   "execution_count": null,
   "metadata": {},
   "outputs": [],
   "source": [
    "config = tutorial_config.get_config()\n",
    "config.root_dir = './tutorial/qm9'\n",
    "\n",
    "model = models.create_model(config, run_in_evaluation_mode=True)"
   ]
  },
  {
   "cell_type": "markdown",
   "metadata": {},
   "source": [
    "Load some fragments from QM9."
   ]
  },
  {
   "cell_type": "code",
   "execution_count": null,
   "metadata": {},
   "outputs": [],
   "source": [
    "rng = jax.random.PRNGKey(0)\n",
    "ds = input_pipeline.get_datasets(rng, config)\n",
    "fragments = next(ds['train'])\n",
    "\n",
    "def unbatch(fragments: jraph.GraphsTuple) -> List[jraph.GraphsTuple]:\n",
    "    \"\"\"Unbatch a batch of fragments.\"\"\"\n",
    "    # Remove padding from the fragments to visualize them.\n",
    "    fragments = jraph.unpad_with_graphs(fragments)\n",
    "\n",
    "    # Unbatch the fragments, and remove the batch dimension from the globals.\n",
    "    unbatched_fragments = jraph.unbatch(fragments)\n",
    "    return [\n",
    "        fragment._replace(globals=jax.tree_util.tree_map(lambda x: np.squeeze(x, axis=0), fragment.globals))\n",
    "        for fragment in unbatched_fragments\n",
    "    ]\n",
    "\n",
    "unbatched_fragments = unbatch(fragments)"
   ]
  },
  {
   "cell_type": "code",
   "execution_count": null,
   "metadata": {},
   "outputs": [],
   "source": [
    "fragments.globals.target_positions.shape"
   ]
  },
  {
   "cell_type": "code",
   "execution_count": null,
   "metadata": {},
   "outputs": [],
   "source": [
    "visualizer.visualize_fragment(unbatched_fragments[0])"
   ]
  },
  {
   "cell_type": "code",
   "execution_count": null,
   "metadata": {},
   "outputs": [],
   "source": [
    "visualizer.visualize_fragment(unbatched_fragments[1])"
   ]
  },
  {
   "cell_type": "code",
   "execution_count": null,
   "metadata": {},
   "outputs": [],
   "source": [
    "visualizer.visualize_fragment(unbatched_fragments[10])"
   ]
  },
  {
   "cell_type": "code",
   "execution_count": null,
   "metadata": {},
   "outputs": [],
   "source": [
    "visualizer.visualize_fragment(unbatched_fragments[11])"
   ]
  },
  {
   "cell_type": "code",
   "execution_count": null,
   "metadata": {},
   "outputs": [],
   "source": [
    "visualizer.visualize_fragment(unbatched_fragments[8])"
   ]
  }
 ],
 "metadata": {
  "kernelspec": {
   "display_name": "symphony",
   "language": "python",
   "name": "python3"
  },
  "language_info": {
   "codemirror_mode": {
    "name": "ipython",
    "version": 3
   },
   "file_extension": ".py",
   "mimetype": "text/x-python",
   "name": "python",
   "nbconvert_exporter": "python",
   "pygments_lexer": "ipython3",
   "version": "3.10.14"
  }
 },
 "nbformat": 4,
 "nbformat_minor": 2
}
