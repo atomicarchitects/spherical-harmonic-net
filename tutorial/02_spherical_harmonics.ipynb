{
 "cells": [
  {
   "cell_type": "markdown",
   "metadata": {},
   "source": [
    "## 2. Representing Angular Distributions with the Spherical Harmonics\n",
    "\n",
    "Next, we introduce the spherical harmonics. Then, we show how to use them to represent equivariant angular distributions."
   ]
  },
  {
   "cell_type": "code",
   "execution_count": null,
   "metadata": {},
   "outputs": [],
   "source": [
    "# Imports\n",
    "from typing import Iterable, Tuple\n",
    "import e3nn_jax as e3nn\n",
    "import jax\n",
    "import jax.numpy as jnp\n",
    "import plotly.graph_objects as go\n",
    "import plotly.subplots\n",
    "import optax\n",
    "import tqdm"
   ]
  },
  {
   "attachments": {},
   "cell_type": "markdown",
   "metadata": {},
   "source": [
    "$$\n",
    "\\def\\gR{\\mathcal{R}}\n",
    "\\def\\gS{\\mathcal{S}}\n",
    "\\def\\r{\\vec{\\mathbf{r}}}\n",
    "\\def\\R{{\\mathbf{R}}}\n",
    "\\def\\T{{\\mathbf{T}}}\n",
    "\\def\\pT{p_\\Theta}\n",
    "\\def\\fT{f_\\Theta}\n",
    "\\def\\p{p}\n",
    "$$"
   ]
  },
  {
   "attachments": {},
   "cell_type": "markdown",
   "metadata": {},
   "source": [
    "### Spherical Harmonics\n",
    "\n",
    "Let $S^2 = \\{(x, y, z) \\in \\mathbb{R}^3 \\ | \\ x^2 + y^2 + z^2 = 1\\}$ be the unit sphere in $\\mathbb{R}^3$.\n",
    "We can also describe each point on $S^2$ by the usual angular coordinates $(\\theta, \\phi)$, where $\\theta \\in [0, \\pi]$ is the polar angle and $\\phi \\in [0, 2\\pi]$ is the azimuthal angle:\n",
    "$$\n",
    "x = \\sin \\theta \\cos \\phi \\quad y = \\sin \\theta \\sin \\phi \\quad z = \\cos \\theta\n",
    "$$\n",
    "\n",
    "The spherical harmonics $Y^l_m: S^2 \\to \\mathbb{R}$ are a set of functions indexed by degree $l \\in \\mathbb{N}$ and order $-l \\leq m \\leq l$. The cell below shows a 3D plot of the spherical harmonics for a given degree $l$:"
   ]
  },
  {
   "cell_type": "code",
   "execution_count": null,
   "metadata": {},
   "outputs": [],
   "source": [
    "# Plot spherical harmonics.\n",
    "\n",
    "def spherical_harmonics_as_signals(l: int) -> Iterable[e3nn.SphericalSignal]:\n",
    "    \"\"\"Yields the spherical harmonics of degree l as a sequence of e3nn.SphericalSignal objects for each m such that -l <= m <= l.\"\"\"\n",
    "    res = (50, 49)\n",
    "    for m in range(-l, l + 1):\n",
    "        coeffs = e3nn.IrrepsArray(\n",
    "            e3nn.s2_irreps(l)[-1],\n",
    "            jnp.asarray([1.0 if md == m else 0.0 for md in range(-l, l + 1)]),\n",
    "        )\n",
    "        yield e3nn.to_s2grid(coeffs, *res, quadrature=\"soft\", p_val=1, p_arg=-1)\n",
    "\n",
    "\n",
    "def plot_spherical_harmonics(l: int) -> None:\n",
    "    \"\"\"Plots the spherical harmonics of degree l on a single row of subplots with one column for each m such that -l <= m <= l.\"\"\"\n",
    "    fig = plotly.subplots.make_subplots(\n",
    "        rows=1,\n",
    "        cols=2 * l + 1,\n",
    "        specs=[[{\"type\": \"surface\"} for _ in range(2 * l + 1)]],\n",
    "        subplot_titles=[f\"m = {m}\" for m in range(-l, l + 1)],\n",
    "    )\n",
    "    camera = dict(\n",
    "        up=dict(x=0, y=0, z=1),\n",
    "        center=dict(x=0, y=0, z=0),\n",
    "        eye=dict(x=2.25, y=2.25, z=2.25),\n",
    "    )\n",
    "    axis = dict(\n",
    "        title=\"\",\n",
    "        showticklabels=False,\n",
    "        showgrid=False,\n",
    "        zeroline=False,\n",
    "        backgroundcolor=\"rgba(255,255,255,255)\",\n",
    "        range=[-2.5, 2.5],\n",
    "    )\n",
    "\n",
    "    for index, sig in enumerate(spherical_harmonics_as_signals(l), start=1):\n",
    "        fig.add_trace(\n",
    "            go.Surface(\n",
    "                sig.plotly_surface(scale_radius_by_amplitude=True),\n",
    "                cmax=2,\n",
    "                cmin=-2,\n",
    "                showscale=(index == 2 * l + 1),\n",
    "            ),\n",
    "            row=1,\n",
    "            col=index,\n",
    "        )\n",
    "        fig.layout[f\"scene{index}\"].camera = camera\n",
    "\n",
    "        fig.layout[f\"scene{index}\"] = dict(\n",
    "            xaxis=axis,\n",
    "            yaxis=axis,\n",
    "            zaxis=axis,\n",
    "            bgcolor=\"rgba(255,255,255,255)\",\n",
    "            aspectmode=\"cube\",\n",
    "            camera=dict(eye=dict(x=1.5, y=1.5, z=1.5)),\n",
    "        )\n",
    "\n",
    "    fig.update_layout(\n",
    "        title=f\"Spherical Harmonics of Degree l = {l}\",\n",
    "        title_x=0.5,\n",
    "    )\n",
    "    fig.show()\n",
    "\n",
    "\n",
    "plot_spherical_harmonics(l=0)\n",
    "plot_spherical_harmonics(l=1)\n",
    "plot_spherical_harmonics(l=2)"
   ]
  },
  {
   "attachments": {},
   "cell_type": "markdown",
   "metadata": {},
   "source": [
    "If these plots reminded you of the s, p and d atomic orbitals, you're on the right track! The spherical harmonics are indeed the angular part of the atomic orbitals.\n",
    "\n",
    "As $l$ increases, the angular frequency of the spherical harmonics increases, which means it varies more rapidly over the surface of the sphere. This is analogous to the Fourier series, where higher frequencies correspond to faster oscillations. Compare the spherical harmonics for $l = 1$ and $l = 2$ in the cell above!\n",
    "\n",
    "Note that for each $l$, there are $2l + 1$ spherical harmonics $Y^l_m$ for $-l \\leq m \\leq l$.\n",
    "Let $Y^l(\\theta, \\phi) = [Y^l_m(\\theta, \\phi)]_{m = -l}^{m = l}$.\n",
    "\n",
    "When written in Cartesian coordinates, the spherical harmonics are given by (upto normalization):\n",
    "- For $l = 0$, we have $Y^0(x, y, z) = [1]$.\n",
    "- For $l = 1$, we have $Y^1(x, y, z) = [x, y, z]$.\n",
    "- For $l = 2$, we have $Y^2(x, y, z) = [xy, yz, 2z^2 − x^2 − y^2, zx, x^2 − y^2]$.\n",
    "\n",
    "When collected together like this, the spherical harmonics indeed transform as an irrep of $O(3)$:\n",
    "\n",
    "**$O(3)$-Equivariance**:  $Y^l(\\theta, \\phi)$ transforms as an irrep of $O(3)$ of type $(l, (-1)^l)$.\n",
    "\n",
    "To evaluate the spherical harmonics at any point on $S^2$, e3nn provides the following function:"
   ]
  },
  {
   "cell_type": "code",
   "execution_count": null,
   "metadata": {},
   "outputs": [],
   "source": [
    "# Points on the unit sphere where we want to evaluate the spherical harmonics.\n",
    "s2_points = jnp.asarray([[1.0, 0.0, 0.0], [0.0, 1.0, 0.0], [0.0, 0.0, 1.0]])\n",
    "\n",
    "# Normalization doesn't make a difference here because the points are all on the unit sphere\n",
    "# In general, e3nn will scale the radial component r as r^l when computing Y^l_m.\n",
    "e3nn.spherical_harmonics(\"2e\", s2_points, normalize=True)"
   ]
  },
  {
   "cell_type": "markdown",
   "metadata": {},
   "source": [
    "The next property allows us to uniquely convert between functions on the sphere $S^2$ and irreducible representations of $SO(3)$.\n",
    "\n",
    "**Orthonormality**: The spherical harmonics form an *orthonormal basis* for functions on the sphere. Concretely, let $f: S^2 \\to \\mathbb{R}$ be any (square-integrable) function on the sphere. Then, there exists *unique* coefficients $c^l \\in \\mathbb{R}^{2l + 1}$ for each $l \\in \\mathbb{N}$ such that:\n",
    "$$\n",
    "\\begin{aligned}\n",
    "    f(\\theta, \\phi) &= \\sum_{l = 0}^\\infty (c^l)^T Y^l(\\theta, \\phi) \\\\\n",
    "    \\implies c^l_m &= \\int_{S^2} f(\\theta, \\phi) Y^l_m(\\theta, \\phi) d\\Omega\n",
    "\\end{aligned}\n",
    "$$\n",
    "where $d\\Omega = \\sin \\theta d\\theta d\\phi$ is the surface area element on the sphere.\n",
    "\n",
    "We term these coefficients $c^l$ as the spherical harmonic coefficients of $f$\n",
    "as they are obtained by projecting $f$ onto the spherical harmonics.\n",
    "\n",
    "These coefficients $c^l$ actually transform as an irrep of $O(3)$ of type $(l, (-1)^l)$, exactly how the corresponding spherical harmonics $Y^l$ transform. What does this mean?\n",
    "\n",
    "Consider the 'rotated' function:\n",
    "$$\n",
    "f_\\R(\\theta, \\phi) = f(\\R^{-1} \\cdot (\\theta, \\phi))\n",
    "$$\n",
    "where $\\R \\cdot (\\theta, \\phi)$ denotes the action of the rotation $\\R$ on the point represented by spherical coordinates $(\\theta, \\phi)$.\n",
    "\n",
    "What are the spherical harmonic coefficients of $f_\\R$? They are given by:\n",
    "$$\n",
    "c^l(f_\\R) = D^l(\\R) c^l(f)\n",
    "$$\n",
    "To see this, we can use the $O(3)$-equivariance of the spherical harmonics, the unitary property of the Wigner D-matrices, and the uniqueness of the spherical harmonic coefficients:\n",
    "$$\n",
    "\\begin{aligned}\n",
    "f_\\R(\\theta, \\phi) &= \\sum_{l = 0}^\\infty c^l(f_\\R)^T Y^l(\\theta, \\phi) \\\\\n",
    "&= \\sum_{l = 0}^\\infty c^l(f)^T D^l(\\R)^T Y^l(\\theta, \\phi) \\\\\n",
    "&= \\sum_{l = 0}^\\infty c^l(f)^T D^l(\\R)^{-1} Y^l(\\theta, \\phi) \\\\\n",
    "&= \\sum_{l = 0}^\\infty c^l(f)^T Y^l(\\R^{-1} \\cdot (\\theta, \\phi)) \\\\\n",
    "&= f(\\R^{-1} \\cdot (\\theta, \\phi))\n",
    "\\end{aligned}\n",
    "$$\n",
    "The parity can also be checked with a similar argument, under inversion."
   ]
  },
  {
   "attachments": {},
   "cell_type": "markdown",
   "metadata": {},
   "source": [
    "### Representing Functions on the Sphere\n",
    "\n",
    "We demonstrate this $E(3)$-equivariance property for the following function, which represents a point cloud of $6$ points on the unit sphere:\n",
    "$$\n",
    "f(x, y, z) = \\sum_{i = 1}^6 {\\delta}(x - x_i)\n",
    "$$\n",
    "where $\\{x_i\\}_{i = 1}^6$ are the coordinates of a regular hexagon inscribed in the unit circle in the $xy$-plane."
   ]
  },
  {
   "cell_type": "code",
   "execution_count": null,
   "metadata": {},
   "outputs": [],
   "source": [
    "# Plotting utilities.\n",
    "# Defines a resolution of the grid on the sphere.\n",
    "grid_kwargs = dict(\n",
    "    res_beta=100,\n",
    "    res_alpha=179,\n",
    "    quadrature=\"soft\",\n",
    "    p_val=1,\n",
    "    p_arg=-1,\n",
    ")\n",
    "\n",
    "\n",
    "def plot_signal(signal: e3nn.SphericalSignal, scale_radius_by_amplitude: bool = True) -> go.Figure:\n",
    "    \"\"\"Plots a SphericalSignal on a sphere.\"\"\"\n",
    "    fig = go.Figure(\n",
    "        [\n",
    "            go.Surface(\n",
    "                signal.plotly_surface(scale_radius_by_amplitude=scale_radius_by_amplitude),\n",
    "                showscale=True,\n",
    "            )\n",
    "        ]\n",
    "    )\n",
    "    fig.update_layout(\n",
    "        scene_camera=dict(\n",
    "            up=dict(x=0, y=0, z=1),\n",
    "            center=dict(x=0, y=0, z=0),\n",
    "            eye=dict(x=-1.5, y=1.5, z=1.5),\n",
    "        ),\n",
    "        # paper_bgcolor=\"rgba(0,0,0,0)\",\n",
    "        # plot_bgcolor=\"rgba(0,0,0,0)\"\n",
    "    )\n",
    "    return fig"
   ]
  },
  {
   "cell_type": "markdown",
   "metadata": {},
   "source": [
    "Using e3nn, we can compute the spherical harmonic coefficients of $f$:"
   ]
  },
  {
   "cell_type": "code",
   "execution_count": null,
   "metadata": {},
   "outputs": [],
   "source": [
    "hexagon_points = jnp.array(\n",
    "    [\n",
    "        [1, 0, 0],\n",
    "        [0.5, jnp.sqrt(3) / 2, 0],\n",
    "        [-0.5, jnp.sqrt(3) / 2, 0],\n",
    "        [-1, 0, 0],\n",
    "        [-0.5, -jnp.sqrt(3) / 2, 0],\n",
    "        [0.5, -jnp.sqrt(3) / 2, 0],\n",
    "    ]\n",
    ")\n",
    "f_coeffs = e3nn.sum(e3nn.s2_dirac(hexagon_points, lmax=6), axis=0)\n",
    "f_signal = e3nn.to_s2grid(f_coeffs, **grid_kwargs)\n",
    "\n",
    "fig = plot_signal(f_signal)\n",
    "fig.update_layout(title=\"Visualizing Function f\")\n",
    "fig.show()"
   ]
  },
  {
   "cell_type": "markdown",
   "metadata": {},
   "source": [
    "As an aside, e3nn also allows the creation of a signal directly from a Cartesian function:"
   ]
  },
  {
   "cell_type": "code",
   "execution_count": null,
   "metadata": {},
   "outputs": [],
   "source": [
    "def cartesian_f(coords: jax.Array) -> float:\n",
    "    \"\"\"Computes the function at the given Cartesian coordinates.\"\"\"\n",
    "    x, y, z = coords\n",
    "    return x**3 - y**2 + z\n",
    "\n",
    "\n",
    "cartesian_f_signal = e3nn.SphericalSignal.from_function(cartesian_f, **grid_kwargs)"
   ]
  },
  {
   "attachments": {},
   "cell_type": "markdown",
   "metadata": {},
   "source": [
    "Below, we visualize the reconstructions as a function of $l_\\text{max}$:"
   ]
  },
  {
   "cell_type": "code",
   "execution_count": null,
   "metadata": {},
   "outputs": [],
   "source": [
    "# Define reconstructions upto a cutoff.\n",
    "for lmax in range(7):\n",
    "    f_coeffs_upto_lmax = f_coeffs.filter(lmax=lmax)\n",
    "    f_signal_reconstructed = e3nn.to_s2grid(f_coeffs_upto_lmax, **grid_kwargs)\n",
    "    fig = plot_signal(f_signal_reconstructed)\n",
    "    fig.update_layout(title=f\"Reconstructed f upto L = {lmax}\")\n",
    "    fig.show()"
   ]
  },
  {
   "cell_type": "markdown",
   "metadata": {},
   "source": [
    "Note how we could not approximate the precise positions of the points on the sphere until $L = 6$ (in this case). We call this an 'angular resolution' bottleneck. Later, we will see one approach to fix this."
   ]
  },
  {
   "attachments": {},
   "cell_type": "markdown",
   "metadata": {},
   "source": [
    "Now, let's see how the function transforms when we rotate these coefficients by $\\frac{\\pi}{2}$ radians around the $x$ axis, using the Wigner D-matrices corresponding to this rotation:"
   ]
  },
  {
   "cell_type": "code",
   "execution_count": null,
   "metadata": {},
   "outputs": [],
   "source": [
    "R = e3nn.matrix_x(0.5 * jnp.pi)\n",
    "rotated_f_coeffs = f_coeffs.transform_by_matrix(R)\n",
    "rotated_f_signal = e3nn.to_s2grid(rotated_f_coeffs, **grid_kwargs)"
   ]
  },
  {
   "cell_type": "code",
   "execution_count": null,
   "metadata": {},
   "outputs": [],
   "source": [
    "fig = plot_signal(rotated_f_signal)\n",
    "fig.update_layout(title=\"Visualizing Rotated Function R f\")\n",
    "fig.show()"
   ]
  },
  {
   "attachments": {},
   "cell_type": "markdown",
   "metadata": {},
   "source": [
    "We clearly see that the function transforms as expected by $\\frac{\\pi}{2}$ radians, which is 90 degrees. This demonstrates the $O(3)$-equivariance property of the spherical harmonic coefficients."
   ]
  },
  {
   "cell_type": "markdown",
   "metadata": {},
   "source": [
    "### Representing Probability Distributions on the Sphere\n",
    "\n",
    "We have just discussed how to represent functions on the sphere using spherical harmonic coefficients.\n",
    "Now, let's move on to representing probability distributions on the sphere.\n",
    "\n",
    "Any probability distribution $p$ must satisfy the following normalization and non-negativity constraints:\n",
    "$$\n",
    "\\begin{aligned}\n",
    "\\int_{S^2} p(\\theta, \\phi) \\ d\\Omega &= 1 \\\\\n",
    "\\pT(\\theta, \\phi) &\\geq 0\n",
    "\\end{aligned}\n",
    "$$\n",
    "where $\\sin \\theta d\\theta d\\phi$ is the area element in spherical coordinates.\n",
    "These constraints are hard to incorporate directly into a neural network. It is easier to predict the unnormalized logits $f(\\theta, \\phi)$ instead, and take the softmax:\n",
    "$$\n",
    "p(\\theta, \\phi) = \\frac{\\exp{f(\\theta, \\phi)}}{\\int_{S^2}\\exp{f(\\theta', \\phi')} \\ d\\Omega'}\n",
    "$$\n",
    "\n",
    "e3nn has utilities for apply the exponential and performing integration over $S^2$:"
   ]
  },
  {
   "cell_type": "code",
   "execution_count": null,
   "metadata": {},
   "outputs": [],
   "source": [
    "p_signal = f_signal.apply(jnp.exp)\n",
    "p_signal.integrate()"
   ]
  },
  {
   "cell_type": "markdown",
   "metadata": {},
   "source": [
    "How can we model the logits $f(\\theta, \\phi)$?\n",
    "The first idea is to represent the logits in the basis of spherical harmonics, upto some cutoff \n",
    "$L$:\n",
    "$$\n",
    "f(\\theta, \\phi) = \\sum_{l = 0}^{L} (c^l)^T Y^l(\\theta, \\phi)\n",
    "$$\n",
    "where we have some model (eg. an equivariant neural network) that predicts the spherical harmonic coefficients $c^l$.\n",
    "\n",
    "This is not so different from the ideas of [DeepONet](https://arxiv.org/abs/1910.03193) and [Fourier Neural Operators](https://arxiv.org/abs/2010.08895), where the function is represented as a linear combination of basis functions, and the coefficients are predicted by a neural network.\n",
    "\n",
    "**Bypassing the Angular Frequency Bottleneck**:\n",
    "\n",
    "However, as we have seen above, we may need a large $L$ to represent the function accurately due to the 'angular frequency bottleneck'.\n",
    "An approach that we have found to work better is to predict *multiple channels* of spherical harmonic coefficients, and then combine them non-linearly via an activation on $S^2$:\n",
    "$$\n",
    "f(\\theta, \\phi) = \\log \\sum_{\\text{ch}} \\exp\\left(\\sum_{l = 0}^{L} (c^l_{\\text{ch}})^T Y^l(\\theta, \\phi)\\right)\n",
    "$$\n",
    "\n",
    "Again, each channel of coefficients $c^l_{\\text{ch}}$ must transform as an irrep of $O(3)$ of type $(l, (-1)^l)$."
   ]
  },
  {
   "cell_type": "markdown",
   "metadata": {},
   "source": [
    "### Example: Learning Equivariant Angular Distributions\n",
    "\n",
    "Next, we show an example of learning a probability distribution on the sphere using this approach, using the same hexagon point cloud as before.\n",
    "\n",
    "In particular, our parameters are the coefficients $c^l_{\\text{ch}}$ for $l = 0, 1, \\ldots L$. The coefficients are being trained to represent the probability distribution of the hexagon point cloud, which is a uniform discrete distribution over the $6$ points of the point cloud. Let $p_c(\\theta, \\phi)$ represent the probability distribution induced by the coefficients $c$, as defined above.\n",
    "Then, we seek to minimize the following loss:\n",
    "$$\n",
    "\\min_c KL(p \\ || \\ p_c) = \\max_c \\frac{1}{6} \\sum_{i = 1}^6 \\log p_c(x_i)\n",
    "$$\n",
    "where $x_i$ are the coordinates of the hexagon point cloud, as defined above.\n",
    "\n",
    "As we saw before, we needed atleast upto $L = 6$ spherical harmonics to represent the hexagon point cloud accurately, when we had only one channel of coefficients. Let's see if we can do better with multiple channels:"
   ]
  },
  {
   "cell_type": "code",
   "execution_count": null,
   "metadata": {},
   "outputs": [],
   "source": [
    "# Helpers for converting the coefficients to a probability distribution.\n",
    "def coeffs_to_probability_distribution(\n",
    "    coeffs: e3nn.IrrepsArray,\n",
    "    res_beta: int = 180,\n",
    "    res_alpha: int = 179,\n",
    "    quadrature: str = \"soft\",\n",
    ") -> e3nn.SphericalSignal:\n",
    "    \"\"\"Converts the coefficients at this radius to a probability distribution.\"\"\"\n",
    "    num_channels, _  = coeffs.shape\n",
    "\n",
    "    # Convert to signal on S2.\n",
    "    prob_signal = e3nn.to_s2grid(\n",
    "        coeffs,\n",
    "        res_beta=res_beta,\n",
    "        res_alpha=res_alpha,\n",
    "        quadrature=quadrature\n",
    "    )\n",
    "    assert prob_signal.shape == (\n",
    "        num_channels,\n",
    "        res_beta,\n",
    "        res_alpha,\n",
    "    )\n",
    "\n",
    "    # Exponentiate the values.\n",
    "    prob_signal = prob_signal.replace_values(jnp.exp(prob_signal.grid_values))\n",
    "\n",
    "    # Sum over the channels.\n",
    "    prob_signal = prob_signal.replace_values(jnp.sum(prob_signal.grid_values, axis=-3))\n",
    "    log_Z = jnp.log(prob_signal.integrate().array.sum())\n",
    "    \n",
    "    prob_signal /= prob_signal.integrate().array.sum()\n",
    "    assert prob_signal.shape == (\n",
    "        res_beta,\n",
    "        res_alpha,\n",
    "    )\n",
    "    return prob_signal, log_Z\n",
    "\n",
    "\n",
    "def log_prob(position: e3nn.IrrepsArray, coeffs: e3nn.IrrepsArray) -> float:\n",
    "    \"\"\"Computes the logits for the given position and coefficients.\"\"\"\n",
    "    # We have to compute the log partition function,\n",
    "    # because the distribution is not normalized.\n",
    "    prob_signal, log_Z = coeffs_to_probability_distribution(\n",
    "        coeffs\n",
    "    )\n",
    "    num_channels, _ = coeffs.shape\n",
    "    assert prob_signal.shape == (\n",
    "        prob_signal.res_beta,\n",
    "        prob_signal.res_alpha,\n",
    "    ), prob_signal.shape\n",
    "    assert log_Z.shape == (), log_Z.shape\n",
    "\n",
    "    # Compute the logits for each channel.\n",
    "    vals = e3nn.to_s2point(coeffs, position)\n",
    "    vals = vals.array.squeeze(-1)\n",
    "    assert vals.shape == (num_channels,), vals.shape\n",
    "\n",
    "    # Then, apply the same log-sum-exp transformation over channels.\n",
    "    logits = jax.scipy.special.logsumexp(vals, axis=-1)\n",
    "    assert logits.shape == (), logits.shape\n",
    "\n",
    "    return logits - log_Z"
   ]
  },
  {
   "cell_type": "code",
   "execution_count": null,
   "metadata": {},
   "outputs": [],
   "source": [
    "@jax.jit\n",
    "def train_step(\n",
    "    coeffs: e3nn.IrrepsArray, positions: jax.Array, opt_state: optax.OptState,\n",
    ") -> Tuple[e3nn.IrrepsArray, optax.GradientTransformation]:\n",
    "    \"\"\"Performs a single optimization step.\"\"\"\n",
    "    def loss_fn(coeffs: e3nn.IrrepsArray) -> float:\n",
    "        log_prob_fn = lambda position: log_prob(position, coeffs)\n",
    "        loss = -jax.vmap(log_prob_fn)(positions).mean()\n",
    "        return e3nn.IrrepsArray(\"0e\", loss)\n",
    "\n",
    "    # Compute gradients.\n",
    "    grad_fn = e3nn.grad(loss_fn)\n",
    "    grads = grad_fn(coeffs)\n",
    "\n",
    "    # Compute updates.\n",
    "    updates, opt_state = tx.update(grads, opt_state)\n",
    "    coeffs = optax.apply_updates(coeffs, updates)\n",
    "    return coeffs, opt_state, loss_fn(coeffs).array\n",
    "\n",
    "# Hyperparameters.\n",
    "lmax = 2\n",
    "num_channels = 6\n",
    "\n",
    "# Initialize the coefficients.\n",
    "key = jax.random.PRNGKey(0)\n",
    "coeffs = e3nn.normal(e3nn.s2_irreps(lmax), key, leading_shape=(num_channels,))\n",
    "hexagon_points_with_irreps = e3nn.IrrepsArray(\"1o\", hexagon_points)\n",
    "\n",
    "# Initialize the optimizer.\n",
    "tx = optax.adam(1e-2)\n",
    "opt_state = tx.init(coeffs)\n",
    "\n",
    "# Run the training loop.\n",
    "with tqdm.trange(1000) as pbar:\n",
    "    for step in pbar:\n",
    "        coeffs, opt_state, loss = train_step(coeffs, hexagon_points_with_irreps, opt_state)\n",
    "        pbar.set_postfix({\"loss\": loss.item()})"
   ]
  },
  {
   "cell_type": "markdown",
   "metadata": {},
   "source": [
    "Let's plot the predicted probability distribution on the sphere:"
   ]
  },
  {
   "cell_type": "code",
   "execution_count": null,
   "metadata": {},
   "outputs": [],
   "source": [
    "prob_signal, _ = coeffs_to_probability_distribution(coeffs)\n",
    "fig = plot_signal(prob_signal)\n",
    "fig.add_trace(\n",
    "    go.Scatter3d(\n",
    "        x=hexagon_points[:, 0],\n",
    "        y=hexagon_points[:, 1],\n",
    "        z=hexagon_points[:, 2],\n",
    "        mode=\"markers\",\n",
    "        marker=dict(size=10, color=\"green\"),\n",
    "    )\n",
    ")\n",
    "fig.update_layout(title=\"Learned Probability Distribution\")\n",
    "fig.show()"
   ]
  },
  {
   "cell_type": "markdown",
   "metadata": {},
   "source": [
    "We are able to represent the hexagon point cloud with a combination of $L = 2$ spherical harmonics, instead of requiring $L = 6$ spherical harmonics. \n",
    "\n",
    "A question that an interested reader might ask is: \"What is the benefit of requiring a smaller L, because we need multiple channels now?\". \n",
    "Here, we simply parametrized the coefficients directly. In practice, these coefficients would have to be predicted by an equivariant neural network.The tensor products needed to predict a higher degree spherical harmonic signal are much more expensive, scaling as $O(L^3)$ atleast; see [our paper](https://openreview.net/pdf?id=0HHidbjwcf) for the exact calculations!). It is much cheaper to predict multiple channels of lower degree spherical harmonics.\n",
    "\n",
    "This is a simple example, but the same principle can be applied to more complex functions on the sphere. In Symphony, we generalized this trick to probability distributions over $R^3$ as well."
   ]
  }
 ],
 "metadata": {
  "kernelspec": {
   "display_name": ".venv",
   "language": "python",
   "name": "python3"
  },
  "language_info": {
   "codemirror_mode": {
    "name": "ipython",
    "version": 3
   },
   "file_extension": ".py",
   "mimetype": "text/x-python",
   "name": "python",
   "nbconvert_exporter": "python",
   "pygments_lexer": "ipython3",
   "version": "3.10.12"
  },
  "orig_nbformat": 4
 },
 "nbformat": 4,
 "nbformat_minor": 2
}
