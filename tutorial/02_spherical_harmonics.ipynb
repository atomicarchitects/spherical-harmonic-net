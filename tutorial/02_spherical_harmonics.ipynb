{
 "cells": [
  {
   "cell_type": "markdown",
   "metadata": {},
   "source": [
    "## 2. Learning Equivariant Angular Distributions with the Spherical Harmonics\n",
    "\n",
    "Next, we introduce the spherical harmonics. Then, we show how to use them to represent equivariant angular distributions."
   ]
  },
  {
   "cell_type": "code",
   "execution_count": null,
   "metadata": {},
   "outputs": [],
   "source": [
    "# Imports\n",
    "from typing import Iterable, Tuple, Sequence\n",
    "import e3nn_jax as e3nn\n",
    "import jax\n",
    "import jax.numpy as jnp\n",
    "import plotly.graph_objects as go\n",
    "import plotly.subplots\n",
    "import ase.io\n",
    "import ase.visualize"
   ]
  },
  {
   "attachments": {},
   "cell_type": "markdown",
   "metadata": {},
   "source": [
    "$$\n",
    "\\def\\gR{\\mathcal{R}}\n",
    "\\def\\gS{\\mathcal{S}}\n",
    "\\def\\r{\\vec{\\mathbf{r}}}\n",
    "\\def\\R{{\\mathbf{R}}}\n",
    "\\def\\T{{\\mathbf{T}}}\n",
    "\\def\\pT{p_\\Theta}\n",
    "\\deff{f_\\Theta}\n",
    "\\def\\p{p}\n",
    "$$"
   ]
  },
  {
   "attachments": {},
   "cell_type": "markdown",
   "metadata": {},
   "source": [
    "### Spherical Harmonics\n",
    "\n",
    "Let $S^2 = \\{(x, y, z) \\in \\mathbb{R}^3 \\ | \\ x^2 + y^2 + z^2 = 1\\}$ be the unit sphere in $\\mathbb{R}^3$.\n",
    "We can also describe each point on $S^2$ by the usual angular coordinates $(\\theta, \\phi)$, where $\\theta \\in [0, \\pi]$ is the polar angle and $\\phi \\in [0, 2\\pi]$ is the azimuthal angle:\n",
    "$$\n",
    "x = \\sin \\theta \\cos \\phi \\quad y = \\sin \\theta \\sin \\phi \\quad z = \\cos \\theta\n",
    "$$\n",
    "\n",
    "The spherical harmonics $Y^l_m: S^2 \\to \\mathbb{R}$ are a set of functions indexed by degree $l \\in \\mathbb{N}$ and order $-l \\leq m \\leq l$. The cell below shows a 3D plot of the spherical harmonics for a given degree $l$:"
   ]
  },
  {
   "cell_type": "code",
   "execution_count": null,
   "metadata": {},
   "outputs": [],
   "source": [
    "def spherical_harmonics_as_signals(l: int) -> Iterable[e3nn.SphericalSignal]:\n",
    "    \"\"\"Yields the spherical harmonics of degree l as a sequence of e3nn.SphericalSignal objects for each m such that -l <= m <= l.\"\"\"\n",
    "    res = (50, 49)\n",
    "    for m in range(-l, l + 1):\n",
    "        coeffs = e3nn.IrrepsArray(e3nn.s2_irreps(l)[-1], jnp.asarray([1. if md == m else 0. for md in range(-l, l + 1)]))\n",
    "        yield e3nn.to_s2grid(coeffs, *res, quadrature=\"soft\", p_val=1, p_arg=-1)\n",
    "\n",
    "\n",
    "def plot_spherical_harmonics(l: int) -> None:\n",
    "    \"\"\"Plots the spherical harmonics of degree l on a single row of subplots with one column for each m such that -l <= m <= l.\"\"\"\n",
    "    fig = plotly.subplots.make_subplots(rows=1, cols=2*l + 1, specs=[[{'type': 'surface'} for _ in range(2*l + 1)]], subplot_titles=[f\"m = {m}\" for m in range(-l, l + 1)])\n",
    "    camera = dict(\n",
    "        up=dict(x=0, y=0, z=1),\n",
    "        center=dict(x=0, y=0, z=0),\n",
    "        eye=dict(x=2.25, y=2.25, z=2.25)\n",
    "    )\n",
    "\n",
    "    for index, sig in enumerate(spherical_harmonics_as_signals(l), start=1):\n",
    "        fig.add_trace(go.Surface(sig.plotly_surface(scale_radius_by_amplitude=True), cmax=2, cmin=-2, showscale=(index == 2*l + 1)), row=1, col=index)\n",
    "        fig.layout[f\"scene{index}\"].camera = camera\n",
    "\n",
    "    fig.update_layout(title=f\"Spherical Harmonics of Degree l = {l}\", title_x=0.5)\n",
    "    fig.show()\n",
    "\n",
    "plot_spherical_harmonics(l=1)\n",
    "plot_spherical_harmonics(l=2)"
   ]
  },
  {
   "attachments": {},
   "cell_type": "markdown",
   "metadata": {},
   "source": [
    "Note that for each $l$, there are $2l + 1$ spherical harmonics $Y^l_m$ for $-l \\leq m \\leq l$.\n",
    "Hmm, but an `irrep' of type $(l, p)$ also has dimension $2l + 1$. In fact, the spherical harmonics can be used to build irreps!\n",
    "\n",
    "**$E(3)$-Equivariance**: Let $Y^l(\\theta, \\phi) = [Y^l_m(\\theta, \\phi)]_{m = -l}^{m = l}$. Then, $Y^l(\\theta, \\phi)$ is an irrep of type $(l, (-1)^l)$.\n",
    "\n"
   ]
  },
  {
   "cell_type": "markdown",
   "metadata": {},
   "source": [
    "To evaluate the spherical harmonics at any point on $S^2$, e3nn provides the following function:"
   ]
  },
  {
   "cell_type": "code",
   "execution_count": null,
   "metadata": {},
   "outputs": [],
   "source": [
    "# Points on the unit sphere where we want to evaluate the spherical harmonics.\n",
    "s2_points = jnp.asarray([[1., 0., 0.], [0., 1., 0.], [0., 0., 1.]])\n",
    "\n",
    "# Normalization doesn't make a difference here because the points are all on the unit sphere\n",
    "# In general, e3nn will scale the radial component r as r^l when computing Y^l_m.\n",
    "e3nn.spherical_harmonics(\"2e\", s2_points, normalize=True)"
   ]
  },
  {
   "cell_type": "markdown",
   "metadata": {},
   "source": [
    "\n",
    "**Orthonormality**: The spherical harmonics form an *orthonormal basis* for functions on the sphere. Concretely, let $f: S^2 \\to \\mathbb{R}$ be any function on the sphere. Then, there exists unique coefficients $c^l \\in \\mathbb{R}^{2l + 1}$ for each $l \\in \\mathbb{N}$ such that:\n",
    "$$\\begin{aligned}\n",
    "    f(\\theta, \\phi; \\gS) = \\sum_{l = 0}^\\infty (c^l)^T Y^l(\\theta, \\phi)\n",
    "\\end{aligned}$$\n",
    "where $Y^l(\\theta, \\phi) = [Y^l_{-l}(\\theta, \\phi), \\ldots, Y^l_{l}(\\theta, \\phi)] \\in \\mathbb{R}^{2l + 1}$.\n",
    "We term these coefficients $c^l$ as the spherical harmonic coefficients of $f$\n",
    "as they are obtained by projecting $f$ onto the spherical harmonics.\n",
    "\n",
    "As $l$ increases, the angular frequency of the spherical harmonics increases, which means it varies more rapidly over the surface of the sphere. This is analogous to the Fourier series, where higher frequencies correspond to faster oscillations. Compare the spherical harmonics for $l = 1, 2$ in the cell above!"
   ]
  },
  {
   "attachments": {},
   "cell_type": "markdown",
   "metadata": {},
   "source": [
    "## Rotational Equivariance\n",
    "\n",
    "We demonstrate this $E(3)$-equivariance property for the following example of the unnormalized probability distribution:\n",
    "$$\n",
    "f(\\theta, \\phi) = \\sin \\theta + \\cos \\phi\n",
    "$$\n",
    "Using e3nn, we can compute the spherical harmonic coefficients:\n"
   ]
  },
  {
   "cell_type": "code",
   "execution_count": null,
   "metadata": {},
   "outputs": [],
   "source": [
    "def to_spherical_coordinates(coords: Sequence[float]) -> Tuple[float, float]:\n",
    "    \"\"\"Returns the spherical coordinates of a point in 3D space.\"\"\"\n",
    "    x, y, z = coords\n",
    "    return jnp.arccos(z / jnp.sqrt(x ** 2 + y ** 2 + z ** 2)), jnp.arctan2(y, x)\n",
    "\n",
    "def plot_signal(signal: e3nn.SphericalSignal) -> go.Figure:\n",
    "    \"\"\"Plots a SphericalSignal on a sphere.\"\"\"\n",
    "    fig = go.Figure([\n",
    "        go.Surface(\n",
    "            signal.plotly_surface(scale_radius_by_amplitude=True),\n",
    "            cmin=-1,\n",
    "            cmax=2\n",
    "    )])\n",
    "    fig.update_layout(\n",
    "        scene_camera=dict(\n",
    "            up=dict(x=0, y=0, z=1),\n",
    "            center=dict(x=0, y=0, z=0),\n",
    "            eye=dict(x=-1.5, y=1.5, z=1.5)\n",
    "        ),\n",
    "        paper_bgcolor=\"rgba(0,0,0,0)\",\n",
    "        plot_bgcolor=\"rgba(0,0,0,0)\"\n",
    "    )\n",
    "    fig.update_traces(showscale=False)\n",
    "    return fig\n",
    "\n",
    "def f(theta: float, phi: float) -> float:\n",
    "    \"\"\"Returns the value of the function at the given spherical coordinates.\"\"\"\n",
    "    return jnp.sin(theta) + jnp.cos(phi)"
   ]
  },
  {
   "cell_type": "code",
   "execution_count": null,
   "metadata": {},
   "outputs": [],
   "source": [
    "# Defines a resolution of the grid on the sphere.\n",
    "resolution = (100, 359)\n",
    "f_signal = e3nn.SphericalSignal.zeros(*resolution, quadrature=\"soft\")\n",
    "thetas, phis = jax.vmap(jax.vmap(to_spherical_coordinates))(f_signal.grid_vectors)\n",
    "f_signal.grid_values = jax.vmap(jax.vmap(f))(thetas, phis)"
   ]
  },
  {
   "cell_type": "code",
   "execution_count": null,
   "metadata": {},
   "outputs": [],
   "source": [
    "fig = plot_signal(f_signal)\n",
    "fig.show()"
   ]
  },
  {
   "attachments": {},
   "cell_type": "markdown",
   "metadata": {},
   "source": [
    "We can compute the spherical coefficients of our signal. This requires defining a cutoff $l_\\text{max}$. Below, we visualize the reconstructions as a function of $l_\\text{max}$:"
   ]
  },
  {
   "cell_type": "code",
   "execution_count": null,
   "metadata": {},
   "outputs": [],
   "source": [
    "# Define reconstructions upto a cutoff.\n",
    "for lmax in range(5):\n",
    "    f_coeffs = e3nn.from_s2grid(f_signal, e3nn.s2_irreps(lmax))\n",
    "    f_signal_reconstructed = e3nn.to_s2grid(f_coeffs, *resolution, quadrature=\"soft\", p_val=1, p_arg=-1)\n",
    "    fig = plot_signal(f_signal_reconstructed)\n",
    "    fig.show()"
   ]
  },
  {
   "attachments": {},
   "cell_type": "markdown",
   "metadata": {},
   "source": [
    "We compute the spherical harmonic coefficients of our signal:"
   ]
  },
  {
   "cell_type": "code",
   "execution_count": null,
   "metadata": {},
   "outputs": [],
   "source": [
    "lmax = 10\n",
    "f_coeffs = e3nn.from_s2grid(f_signal, e3nn.s2_irreps(lmax))"
   ]
  },
  {
   "attachments": {},
   "cell_type": "markdown",
   "metadata": {},
   "source": [
    "Now, let's see how the function transforms when we rotate these coefficients by $\\frac{\\pi}{2}$ radians around the $z$ axis, using the Wigner D-matrices corresponding to this rotation:"
   ]
  },
  {
   "cell_type": "code",
   "execution_count": null,
   "metadata": {},
   "outputs": [],
   "source": [
    "R = e3nn.matrix_z(0.5 * jnp.pi)\n",
    "rotated_f_coeffs = f_coeffs.transform_by_matrix(R)\n",
    "rotated_f_signal = e3nn.to_s2grid(rotated_f_coeffs, *resolution, quadrature=\"soft\")"
   ]
  },
  {
   "cell_type": "code",
   "execution_count": null,
   "metadata": {},
   "outputs": [],
   "source": [
    "plot_signal(rotated_f_signal)"
   ]
  },
  {
   "attachments": {},
   "cell_type": "markdown",
   "metadata": {},
   "source": [
    "We clearly see that the function transforms as expected by $\\frac{\\pi}{2}$ radians."
   ]
  },
  {
   "cell_type": "markdown",
   "metadata": {},
   "source": [
    "## Representing Probability Distributions\n",
    "\n",
    "Let $F$ be a frame of reference, that is, a coordinate system. For example, $F$ could be the standard frame of reference represented by $3$ vectors $(e_1, e_2, e_3)$ in $\\mathbb{R}^3$.\n",
    "\n",
    "We represent a probability distribution $p$ in the frame of reference $F$.\n",
    "We want our representation to be equivariant to rotations of the frame of reference $F$:\n",
    "$$\n",
    "p(\\theta, \\phi; F) = p(\\R \\cdot(\\theta, \\phi); \\R F)\n",
    "$$\n",
    "So, if we rotate the frame of reference $F$ by $\\R$, then the probability distribution $p$ should also rotate by $\\R$. The notation $\\R \\cdot(\\theta, \\phi)$ denotes the result of rotating the point on $S^2$ represented by spherical coordinates $(\\theta, \\phi)$ by $\\R$.\n",
    "\n",
    "Any probability distribution $p$ must satisfy the following normalization and non-negativity constraints:\n",
    "$$\n",
    "\\begin{aligned}\n",
    "\\int_{\\mathbb{S}^2} p(\\theta, \\phi; F) \\ \\sin \\theta d\\theta d\\phi &= 1 \\\\\n",
    "\\pT(\\theta, \\phi; F) \\geq 0\n",
    "\\end{aligned}\n",
    "$$\n",
    "where $\\sin \\theta d\\theta d\\phi$ is the area element in spherical coordinates.\n",
    "These constraints are hard to incorporate directly into a neural network. It is easier to predict the unnormalized logits $f(\\theta, \\phi; F)$ instead, and take the softmax:\n",
    "$$\n",
    "p(\\theta, \\phi; F) = \\frac{\\exp{f(\\theta, \\phi; F)}}{\\int_{S^2}\\exp{f(\\theta', \\phi'; F)} \\ \\sin \\theta d\\theta d\\phi}\n",
    "$$\n"
   ]
  },
  {
   "cell_type": "markdown",
   "metadata": {},
   "source": [
    "How can we model the logits $f(\\theta, \\phi; F)$?\n",
    "The first idea is to represent the logits in the basis of spherical harmonics:\n",
    "$$\n",
    "f(\\theta, \\phi; F) = \\sum_{l = 0}^{l_\\text{max}} c^l_\\Theta(F)^T Y^l(\\theta, \\phi)\n",
    "$$\n",
    "where the coefficients $c^l_\\Theta$ are predicted by a neural network.\n",
    "\n",
    "This is not so different from the ideas of [DeepONet](https://arxiv.org/abs/1910.03193) and [Fourier Neural Operators](https://arxiv.org/abs/2010.08895), where the function is represented as a linear combination of basis functions, and the coefficients are predicted by a neural network.\n",
    "\n",
    "To guarantee $E(3)$-equivariance, these coefficients $c^l_\\Theta$ must transform as a $(l, (-1)^l)$-irrep of $O(3)$:\n",
    "$$\n",
    "c^l_\\Theta(F) = (-1)^l D^l(\\R)^T c^l_\\Theta(F)\n",
    "$$\n",
    "Using the properties of the spherical harmonics and the unitary property of the Wigner-D matrices, we are guaranteed that $f$ is $O(3)$-equivariant:\n",
    "$$\n",
    "\\begin{aligned}\n",
    "f(\\R \\cdot (r, \\theta, \\phi); \\R F) &= \\sum_{l = 0}^\\infty c^l_\\Theta(F)^T Y^l(\\R(\\theta, \\phi)) \\\\\n",
    "&= \\sum_{l = 0}^\\infty (-1)^{l} c^l(F)^T D^l(\\R) \\times (-1)^{l}D^l(\\R)^T Y^l(\\theta, \\phi) \\\\\n",
    "&= \\sum_{l = 0}^\\infty c^l(F)^T Y^l(\\theta, \\phi) \\\\\n",
    "&= f(r, \\theta, \\phi; F)\n",
    "\\end{aligned}\n",
    "$$\n",
    "This guarantees that the probability distribution $p$ is $O(3)$-equivariant.\n",
    "\n",
    "Because these coefficients transform as an irrep of $O(3)$, we need to use a neural network that is $E(3)$-equivariant, which we can define using e3nn.\n",
    "\n",
    "Next, we show an example."
   ]
  },
  {
   "cell_type": "markdown",
   "metadata": {},
   "source": [
    "## Example: Learning Equivariant Angular Distributions"
   ]
  },
  {
   "cell_type": "code",
   "execution_count": null,
   "metadata": {},
   "outputs": [],
   "source": [
    "\n",
    "import flax.linen as nn\n",
    "import optax\n",
    "\n",
    "class AngularPredictor(nn.Module):\n",
    "    \"\"\"Predicts the coefficients\"\"\"\n",
    "    def __call__(frame: e3nn.IrrepsArray) -> e3nn.IrrepsArray:\n",
    "        frame = e3nn.tensor_square(frame)\n",
    "        return e3nn.flax.Linear(frame)\n",
    "\n",
    "predictor = AngularPredictor()\n",
    "\n",
    "def kl_divergence_loss(params: optax.Params, positions: jax.Array, frame: e3nn.IrrepsArray) -> float:\n",
    "    \"\"\"Computes the KL divergence between the true and predicted coefficients.\"\"\"\n",
    "    coeffs = predictor.apply(params, frame)\n",
    "    return -jax.vmap(lambda position: log_prob(position, coeffs))(positions).mean()\n",
    "\n",
    "\n",
    "def coeffs_to_probability_distribution(\n",
    "    coeffs: e3nn.IrrepsArray, res_beta: int, res_alpha: int, quadrature: str\n",
    ") -> e3nn.SphericalSignal:\n",
    "    \"\"\"Converts the coefficients at this radius to a probability distribution.\"\"\"\n",
    "    num_channels = coeffs.shape[-2]\n",
    "\n",
    "    prob_signal = e3nn.to_s2grid(\n",
    "        coeffs, res_beta=res_beta, res_alpha=res_alpha, quadrature=quadrature\n",
    "    )\n",
    "    assert prob_signal.shape == (\n",
    "        num_channels,\n",
    "        res_beta,\n",
    "        res_alpha,\n",
    "    )\n",
    "\n",
    "    prob_signal = prob_signal.replace_values(\n",
    "        prob_signal.grid_values - jnp.max(prob_signal.grid_values)\n",
    "    )\n",
    "    prob_signal = prob_signal.replace_values(jnp.exp(prob_signal.grid_values))\n",
    "    \n",
    "    # Sum over the channels.\n",
    "    prob_signal = prob_signal.replace_values(\n",
    "        jnp.sum(prob_signal.grid_values, axis=-3)\n",
    "    )\n",
    "    prob_signal /= prob_signal.integrate().array.sum()\n",
    "    assert prob_signal.shape == (\n",
    "        res_beta,\n",
    "        res_alpha,\n",
    "    )\n",
    "    return prob_signal\n",
    "\n",
    "\n",
    "\n",
    "def log_prob(\n",
    "    self, position: e3nn.IrrepsArray, coeffs: e3nn.IrrepsArray\n",
    ") -> float:\n",
    "    \"\"\"Computes the logits for the given position and coefficients.\"\"\"\n",
    "    # Normalize the position.\n",
    "    normalized_position = position / jnp.linalg.norm(position.array)\n",
    "    assert normalized_position.shape == (3,), normalized_position.shape\n",
    "\n",
    "    # We have to compute the log partition function, because the distribution is not normalized.\n",
    "    prob_signal = self.coeffs_to_probability_distribution(\n",
    "        coeffs, self.res_beta, self.res_alpha, self.quadrature\n",
    "    )\n",
    "    assert prob_signal.shape == (\n",
    "        self.num_channels,\n",
    "        self.res_beta,\n",
    "        self.res_alpha,\n",
    "    )\n",
    "    log_Z = jnp.log(prob_signal.integrate().array.sum())\n",
    "    assert log_Z.shape == (), log_Z.shape\n",
    "\n",
    "    # We can compute the logits.\n",
    "    vals = e3nn.to_s2point(coeffs, normalized_position)\n",
    "    vals = vals.array.squeeze(-1)\n",
    "    assert vals.shape == (self.num_channels,), vals.shape\n",
    "\n",
    "    logits = jax.scipy.special.logsumexp(vals, axis=-1)\n",
    "    assert logits.shape == (), logits.shape\n",
    "\n",
    "    return logits - log_Z\n",
    "\n",
    "@staticmethod\n",
    "def coeffs_to_probability_distribution(\n",
    "    coeffs: e3nn.IrrepsArray, res_beta: int, res_alpha: int, quadrature: str\n",
    ") -> e3nn.SphericalSignal:\n",
    "    \"\"\"Converts the coefficients at this radius to a probability distribution.\"\"\"\n",
    "    num_channels = coeffs.shape[-2]\n",
    "\n",
    "    prob_signal = e3nn.to_s2grid(\n",
    "        coeffs, res_beta=res_beta, res_alpha=res_alpha, quadrature=quadrature\n",
    "    )\n",
    "    assert prob_signal.shape == (\n",
    "        num_channels,\n",
    "        res_beta,\n",
    "        res_alpha,\n",
    "    )\n",
    "\n",
    "    prob_signal = prob_signal.replace_values(\n",
    "        prob_signal.grid_values - jnp.max(prob_signal.grid_values)\n",
    "    )\n",
    "    prob_signal = prob_signal.replace_values(jnp.exp(prob_signal.grid_values))\n",
    "    \n",
    "    # Sum over the channels.\n",
    "    prob_signal = prob_signal.replace_values(\n",
    "        jnp.sum(prob_signal.grid_values, axis=-3)\n",
    "    )\n",
    "    prob_signal /= prob_signal.integrate().array.sum()\n",
    "    assert prob_signal.shape == (\n",
    "        res_beta,\n",
    "        res_alpha,\n",
    "    )\n",
    "    return prob_signal\n",
    "\n",
    "def sample(\n",
    "    self, radius: float, conditioning: e3nn.IrrepsArray, inverse_temperature: float\n",
    ") -> e3nn.IrrepsArray:\n",
    "    \"\"\"Samples from the learned distribution using the discretized grid.\"\"\"\n",
    "    # Compute the coefficients at this radius.\n",
    "    coeffs = self.coeffs(radius, conditioning)\n",
    "\n",
    "    # Scale coefficients by the inverse temperature.\n",
    "    beta = self.sampling_inverse_temperature_factor * inverse_temperature\n",
    "    coeffs *= beta\n",
    "\n",
    "    # We have to compute the log partition function, because the distribution is not normalized.\n",
    "    prob_signal = self.coeffs_to_probability_distribution(\n",
    "        coeffs, self.res_beta, self.res_alpha, self.quadrature\n",
    "    )\n",
    "\n",
    "    # Sample from the distribution.\n",
    "    key = hk.next_rng_key()\n",
    "    key, sample_key = jax.random.split(key)\n",
    "    beta_index, alpha_index = prob_signal.sample(sample_key)\n",
    "    sample = prob_signal.grid_vectors[beta_index, alpha_index]\n",
    "    assert sample.shape == (3,), sample.shape\n",
    "\n",
    "    # Scale by the radius.\n",
    "    return sample * radius\n"
   ]
  }
 ],
 "metadata": {
  "kernelspec": {
   "display_name": ".venv",
   "language": "python",
   "name": "python3"
  },
  "language_info": {
   "codemirror_mode": {
    "name": "ipython",
    "version": 3
   },
   "file_extension": ".py",
   "mimetype": "text/x-python",
   "name": "python",
   "nbconvert_exporter": "python",
   "pygments_lexer": "ipython3",
   "version": "3.10.14"
  },
  "orig_nbformat": 4
 },
 "nbformat": 4,
 "nbformat_minor": 2
}
