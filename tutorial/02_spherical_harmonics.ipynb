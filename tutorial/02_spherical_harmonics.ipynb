{
 "cells": [
  {
   "cell_type": "markdown",
   "metadata": {},
   "source": [
    "## 2. Learning Equivariant Angular Distributions with the Spherical Harmonics\n",
    "\n",
    "Next, we introduce the spherical harmonics."
   ]
  },
  {
   "cell_type": "code",
   "execution_count": null,
   "metadata": {},
   "outputs": [],
   "source": [
    "# Imports\n",
    "from typing import Iterable, Tuple, Sequence\n",
    "import e3nn_jax as e3nn\n",
    "import jax\n",
    "import jax.numpy as jnp\n",
    "import plotly.graph_objects as go\n",
    "import plotly.subplots\n",
    "import ase.io\n",
    "import ase.visualize"
   ]
  },
  {
   "attachments": {},
   "cell_type": "markdown",
   "metadata": {},
   "source": [
    "$$\n",
    "\\def\\gR{\\mathcal{R}}\n",
    "\\def\\gS{\\mathcal{S}}\n",
    "\\def\\r{\\vec{\\mathbf{r}}}\n",
    "\\def\\R{{\\mathbf{R}}}\n",
    "\\def\\T{{\\mathbf{T}}}\n",
    "\\def\\pT{p_\\Theta}\n",
    "\\def\\fT{f_\\Theta}\n",
    "\\def\\p{p}\n",
    "$$"
   ]
  },
  {
   "attachments": {},
   "cell_type": "markdown",
   "metadata": {},
   "source": [
    "### Spherical Harmonics\n",
    "\n",
    "Let $S^2 = \\{(x, y, z) \\in \\mathbb{R}^3 \\ | \\ x^2 + y^2 + z^2 = 1\\}$ be the unit sphere in $\\mathbb{R}^3$.\n",
    "We can also describe each point on $S^2$ by the usual angular coordinates $(\\theta, \\phi)$, where $\\theta \\in [0, \\pi]$ is the polar angle and $\\phi \\in [0, 2\\pi]$ is the azimuthal angle:\n",
    "$$\n",
    "x = \\sin \\theta \\cos \\phi \\quad y = \\sin \\theta \\sin \\phi \\quad z = \\cos \\theta\n",
    "$$\n",
    "\n",
    "The spherical harmonics $Y^l_m: S^2 \\to \\mathbb{R}$ are a set of functions indexed by degree $l \\in \\mathbb{N}$ and order $-l \\leq m \\leq l$. The cell below shows a 3D plot of the spherical harmonics for a given degree $l$:"
   ]
  },
  {
   "cell_type": "code",
   "execution_count": null,
   "metadata": {},
   "outputs": [],
   "source": [
    "def spherical_harmonics_as_signals(l: int) -> Iterable[e3nn.SphericalSignal]:\n",
    "    \"\"\"Yields the spherical harmonics of degree l as a sequence of e3nn.SphericalSignal objects for each m such that -l <= m <= l.\"\"\"\n",
    "    res = (50, 49)\n",
    "    for m in range(-l, l + 1):\n",
    "        coeffs = e3nn.IrrepsArray(e3nn.s2_irreps(l)[-1], jnp.asarray([1. if md == m else 0. for md in range(-l, l + 1)]))\n",
    "        yield e3nn.to_s2grid(coeffs, *res, quadrature=\"soft\", p_val=1, p_arg=-1)\n",
    "\n",
    "\n",
    "def plot_spherical_harmonics(l: int) -> None:\n",
    "    \"\"\"Plots the spherical harmonics of degree l on a single row of subplots with one column for each m such that -l <= m <= l.\"\"\"\n",
    "    fig = plotly.subplots.make_subplots(rows=1, cols=2*l + 1, specs=[[{'type': 'surface'} for _ in range(2*l + 1)]], subplot_titles=[f\"m = {m}\" for m in range(-l, l + 1)])\n",
    "    camera = dict(\n",
    "        up=dict(x=0, y=0, z=1),\n",
    "        center=dict(x=0, y=0, z=0),\n",
    "        eye=dict(x=2.25, y=2.25, z=2.25)\n",
    "    )\n",
    "\n",
    "    for index, sig in enumerate(spherical_harmonics_as_signals(l), start=1):\n",
    "        fig.add_trace(go.Surface(sig.plotly_surface(scale_radius_by_amplitude=True), cmax=2, cmin=-2, showscale=(index == 2*l + 1)), row=1, col=index)\n",
    "        fig.layout[f\"scene{index}\"].camera = camera\n",
    "\n",
    "    fig.update_layout(title=f\"Spherical Harmonics of Degree l = {l}\", title_x=0.5)\n",
    "    fig.show()\n",
    "\n",
    "plot_spherical_harmonics(l=2)"
   ]
  },
  {
   "attachments": {},
   "cell_type": "markdown",
   "metadata": {},
   "source": [
    "Note that for each $l$, there are $2l + 1$ spherical harmonics $Y^l_m$ for $-l \\leq m \\leq l$.\n",
    "Hmm, but an `irrep' of type $(l, p)$ also has dimension $2l + 1$. In fact, the spherical harmonics can be used to build irreps!\n",
    "\n",
    "**$E(3)$-Equivariance**: Let $Y^l(\\theta, \\phi) = [Y^l_m(\\theta, \\phi)]_{m = -l}^{m = l}$. Then, $Y^l(\\theta, \\phi)$ is an irrep of type $(l, (-1)^l)$.\n",
    "\n"
   ]
  },
  {
   "cell_type": "markdown",
   "metadata": {},
   "source": [
    "To evaluate the spherical harmonics at any point on $S^2$, e3nn provides the following function:"
   ]
  },
  {
   "cell_type": "code",
   "execution_count": null,
   "metadata": {},
   "outputs": [],
   "source": [
    "# Points on the unit sphere where we want to evaluate the spherical harmonics.\n",
    "s2_points = jnp.asarray([[1., 0., 0.], [0., 1., 0.], [0., 0., 1.]])\n",
    "\n",
    "# Normalization doesn't make a difference here because the points are all on the unit sphere\n",
    "# In general, e3nn will scale the radial component r as r^l when computing Y^l_m.\n",
    "e3nn.spherical_harmonics(\"2e\", s2_points, normalize=True)"
   ]
  },
  {
   "cell_type": "markdown",
   "metadata": {},
   "source": [
    "\n",
    "**Orthonormality**: The spherical harmonics form an *orthonormal basis* for functions on the sphere. Concretely, let $f: S^2 \\to \\mathbb{R}$ be any function on the sphere. Then, there exists unique coefficients $c^l \\in \\mathbb{R}^{2l + 1}$ for each $l \\in \\mathbb{N}$ such that:\n",
    "$$\\begin{aligned}\n",
    "    f(\\theta, \\phi; \\gS) = \\sum_{l = 0}^\\infty (c^l)^T Y^l(\\theta, \\phi)\n",
    "\\end{aligned}$$\n",
    "where $Y^l(\\theta, \\phi) = [Y^l_{-l}(\\theta, \\phi), \\ldots, Y^l_{l}(\\theta, \\phi)] \\in \\mathbb{R}^{2l + 1}$.\n",
    "We term these coefficients $c^l$ as the spherical harmonic coefficients of $f$\n",
    "as they are obtained by projecting $f$ onto the spherical harmonics."
   ]
  },
  {
   "attachments": {},
   "cell_type": "markdown",
   "metadata": {},
   "source": [
    "## Rotational Equivariance\n",
    "\n",
    "We demonstrate this $E(3)$-equivariance property for the following example of the unnormalized probability distribution:\n",
    "$$\n",
    "f(\\theta, \\phi) = \\sin \\theta + \\cos \\phi\n",
    "$$\n",
    "Using e3nn, we can compute the spherical harmonic coefficients:\n"
   ]
  },
  {
   "cell_type": "code",
   "execution_count": null,
   "metadata": {},
   "outputs": [],
   "source": [
    "def to_spherical_coordinates(coords: Sequence[float]) -> Tuple[float, float]:\n",
    "    \"\"\"Returns the spherical coordinates of a point in 3D space.\"\"\"\n",
    "    x, y, z = coords\n",
    "    return jnp.arccos(z / jnp.sqrt(x ** 2 + y ** 2 + z ** 2)), jnp.arctan2(y, x)\n",
    "\n",
    "def plot_signal(signal: e3nn.SphericalSignal) -> go.Figure:\n",
    "    \"\"\"Plots a SphericalSignal on a sphere.\"\"\"\n",
    "    fig = go.Figure([\n",
    "        go.Surface(\n",
    "            signal.plotly_surface(scale_radius_by_amplitude=True),\n",
    "            cmin=-1,\n",
    "            cmax=2\n",
    "    )])\n",
    "    fig.update_layout(\n",
    "        scene_camera=dict(\n",
    "            up=dict(x=0, y=0, z=1),\n",
    "            center=dict(x=0, y=0, z=0),\n",
    "            eye=dict(x=-1.5, y=1.5, z=1.5)\n",
    "        ),\n",
    "        paper_bgcolor=\"rgba(0,0,0,0)\",\n",
    "        plot_bgcolor=\"rgba(0,0,0,0)\"\n",
    "    )\n",
    "    fig.update_traces(showscale=False)\n",
    "    return fig\n",
    "\n",
    "def f(theta: float, phi: float) -> float:\n",
    "    \"\"\"Returns the value of the function at the given spherical coordinates.\"\"\"\n",
    "    return jnp.sin(theta) + jnp.cos(phi)"
   ]
  },
  {
   "cell_type": "code",
   "execution_count": null,
   "metadata": {},
   "outputs": [],
   "source": [
    "# Defines a resolution of the grid on the sphere.\n",
    "resolution = (100, 359)\n",
    "f_signal = e3nn.SphericalSignal.zeros(*resolution, quadrature=\"soft\")\n",
    "thetas, phis = jax.vmap(jax.vmap(to_spherical_coordinates))(f_signal.grid_vectors)\n",
    "f_signal.grid_values = jax.vmap(jax.vmap(f))(thetas, phis)"
   ]
  },
  {
   "cell_type": "code",
   "execution_count": null,
   "metadata": {},
   "outputs": [],
   "source": [
    "fig = plot_signal(f_signal)\n",
    "fig.show()"
   ]
  },
  {
   "attachments": {},
   "cell_type": "markdown",
   "metadata": {},
   "source": [
    "We can compute the spherical coefficients of our signal. This requires defining a cutoff $l_\\text{max}$. Below, we visualize the reconstructions as a function of $l_\\text{max}$:"
   ]
  },
  {
   "cell_type": "code",
   "execution_count": null,
   "metadata": {},
   "outputs": [],
   "source": [
    "# Define reconstructions upto a cutoff.\n",
    "for lmax in range(10):\n",
    "    f_coeffs = e3nn.from_s2grid(f_signal, e3nn.s2_irreps(lmax))\n",
    "    f_signal_reconstructed = e3nn.to_s2grid(f_coeffs, *resolution, quadrature=\"soft\", p_val=1, p_arg=-1)\n",
    "    fig = plot_signal(f_signal_reconstructed)\n",
    "    fig.show()"
   ]
  },
  {
   "attachments": {},
   "cell_type": "markdown",
   "metadata": {},
   "source": [
    "We compute the spherical harmonic coefficients of our signal:"
   ]
  },
  {
   "cell_type": "code",
   "execution_count": null,
   "metadata": {},
   "outputs": [],
   "source": [
    "lmax = 10\n",
    "f_coeffs = e3nn.from_s2grid(f_signal, e3nn.s2_irreps(lmax))"
   ]
  },
  {
   "attachments": {},
   "cell_type": "markdown",
   "metadata": {},
   "source": [
    "Now, let's see how the function transforms when we rotate these coefficients by $\\frac{\\pi}{2}$ radians around the $z$ axis, using the Wigner D matrices corresponding to this rotation:"
   ]
  },
  {
   "cell_type": "code",
   "execution_count": null,
   "metadata": {},
   "outputs": [],
   "source": [
    "R = e3nn.matrix_z(0.5 * jnp.pi)\n",
    "rotated_f_coeffs = f_coeffs.transform_by_matrix(R)\n",
    "rotated_f_signal = e3nn.to_s2grid(rotated_f_coeffs, *resolution, quadrature=\"soft\")"
   ]
  },
  {
   "cell_type": "code",
   "execution_count": null,
   "metadata": {},
   "outputs": [],
   "source": [
    "plot_signal(rotated_f_signal)"
   ]
  },
  {
   "attachments": {},
   "cell_type": "markdown",
   "metadata": {},
   "source": [
    "We clearly see that the function transforms as expected by $\\frac{\\pi}{2}$ radians."
   ]
  },
  {
   "cell_type": "markdown",
   "metadata": {},
   "source": [
    "## Representing Probability Distributions\n",
    "\n",
    "To utilize this machinery to represent probability distributions, we first switch to spherical coordinates, described above.\n",
    "Any probability distribution $\\pT$ must satisfy the following normalization and non-negativity constraints:\n",
    "$$\n",
    "\\begin{aligned}\n",
    "\\int_{\\mathbb{R}^3} \\pT(r, \\theta, \\phi) \\ dV &= 1 \\\\\n",
    "\\pT(r, \\theta, \\phi) \\geq 0\n",
    "\\end{aligned}\n",
    "$$\n",
    "where $dV = r dr \\sin \\theta d\\theta d\\phi$ is the volume element in spherical coordinates.\n",
    "These constraints are hard to incorporate directly into a neural network. It is easier to predict the logits $\\fT(r, \\theta, \\phi)$ instead, and take the softmax:\n",
    "$$\n",
    "\\pT(r, \\theta, \\phi) = \\frac{\\exp{\\fT(r, \\theta, \\phi)}}{\\int_{\\mathbb{R}^3}\\exp{f(r', \\theta', \\phi')} \\ dV'}\n",
    "$$\n"
   ]
  },
  {
   "cell_type": "markdown",
   "metadata": {},
   "source": [
    "Now, we discuss how to model the logits $\\fT(r, \\theta, \\phi)$ using spherical harmonics.\n",
    "We discretize the radial component $r$ into a fixed number of bins (here, 64). For each value of $r$, we obtain a function on the sphere $S^2$:\n",
    "$$\n",
    "\\fT(r, \\theta, \\phi; \\gS) = \\sum_{l = 0}^{l_\\text{max}} c^l_\\Theta(r; \\gS)^T Y^l(\\theta, \\phi)\n",
    "$$\n",
    "where the coefficients $c^l$ are now a function of both $r$ and the point cloud $\\gS$.\n",
    "To guarantee $E(3)$-equivariance, these coefficients must also transform as a $(l, p)$-irrep of $O(3)$:\n",
    "$$\n",
    "c^l_\\Theta(r; \\R\\gS) = (-1)^l D^l(\\R)^T c^l_\\Theta(r; \\gS)\n",
    "$$\n",
    "Our model predicts these coefficients $c^l$ using a $E(3)$ equivariant message-passing neural network.\n",
    "Using the properties of the spherical harmonics and the unitary property of the Wigner-D matrices, we are guaranteed that $f$ is $O(3)$-equivariant:\n",
    "$$\n",
    "\\begin{aligned}\n",
    "f(\\R(r, \\theta, \\phi); \\R\\gS) &= \\sum_{l = 0}^\\infty c^l_\\Theta(r; \\R\\gS)^T Y^l(\\R(\\theta, \\phi)) \\\\\n",
    "&= \\sum_{l = 0}^\\infty (-1)^{2l} c^l(\\gS)^T D^l(\\R) D^l(\\R)^T Y^l(\\theta, \\phi) \\\\\n",
    "&= \\sum_{l = 0}^\\infty c^l(\\gS)^T Y^l(\\theta, \\phi) \\\\\n",
    "&= f(r, \\theta, \\phi; \\gS)\n",
    "\\end{aligned}\n",
    "$$\n",
    "\n",
    "To guarantee translational equivariance, we use only relative position vectors to predict the coefficients $c$. This is a common practice in many equivariant neural networks ([Geiger and Smidt](https://arxiv.org/abs/2207.09453)). Thus, our predicted logits $f$ (and hence our predicted probability distribution $\\pT$) are $E(3)$-equivariant."
   ]
  }
 ],
 "metadata": {
  "kernelspec": {
   "display_name": ".venv",
   "language": "python",
   "name": "python3"
  },
  "language_info": {
   "codemirror_mode": {
    "name": "ipython",
    "version": 3
   },
   "file_extension": ".py",
   "mimetype": "text/x-python",
   "name": "python",
   "nbconvert_exporter": "python",
   "pygments_lexer": "ipython3",
   "version": "3.10.14"
  },
  "orig_nbformat": 4
 },
 "nbformat": 4,
 "nbformat_minor": 2
}
