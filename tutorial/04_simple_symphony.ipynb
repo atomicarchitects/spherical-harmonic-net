{
 "cells": [
  {
   "cell_type": "markdown",
   "metadata": {},
   "source": [
    "## 4. Symphony: Simplified\n",
    "\n",
    "Next."
   ]
  },
  {
   "cell_type": "markdown",
   "metadata": {},
   "source": [
    "$$\n",
    "\\def\\gR{\\mathcal{R}}\n",
    "\\def\\gS{\\mathcal{S}}\n",
    "\\def\\r{\\vec{\\mathbf{r}}}\n",
    "\\def\\R{{\\mathbf{R}}}\n",
    "\\def\\T{{\\mathbf{T}}}\n",
    "\\def\\pTi{p_\\Theta^{(i)}}\n",
    "$$"
   ]
  },
  {
   "cell_type": "markdown",
   "metadata": {},
   "source": [
    "## Background\n",
    "\n",
    "Given a set $\\gS$ of points with 3D coordinates $\\{\\r_1, \\r_2, \\ldots, \\r_N\\}$ where each $\\r_i \\in \\mathbb{R}^3$, we wish to learn spatial distributions $\\pTi(\\r; \\gS)$ at each point $i$ conditioned on $\\gS$. Here, $\\Theta$ represents the parameters of our model.\n",
    "\n",
    "This problem is relevant to many applications that utilize point clouds:\n",
    "* In robotics, accurately estimating surface normal vectors at points in a point cloud is important for grasping and manipulation.\n",
    "* In chemistry, autoregressive models generate molecules by learning a distribution of the next atom conditioned on the current molecule.\n",
    "* In fluid dynamics, learning a distribution of the velocity field at a point conditioned on the current density field can be used to simulate fluid flow.\n",
    "* In computational dynamics, learning distortions of 3D meshes can speed up simulations of interacting objects.\n",
    "\n",
    "**$E(3)$-Equivariance**:\n",
    "Ideally, we would want the learned distributions to respect symmetries of our point set.\n",
    "In particular, the pointwise distributions should translate naturally under rotations and translations of $\\gS$.\n",
    "Formally, let $\\R \\gS + \\T = \\{\\R\\r_1 + \\T, \\R\\r_2 + \\T, \\ldots, \\R\\r_N + \\T\\}$ be\n",
    "the description of the same set of points in a coordinate frame rotated by\n",
    "matrix $\\R$ and translated by $\\T$. Since the choice of a coordinate\n",
    "frame to describe $\\gS$ is arbitrary, we would like each $\\pTi$ to be transform naturally\n",
    "under a change of coordinates. In particular, we want each $\\pTi$ to satisfy:\n",
    "$$\n",
    "\\begin{aligned}\n",
    "    \\pTi(\\r; \\gS) &= \\pTi(\\R\\r + \\T; \\R\\gS + \\T)\n",
    "\\end{aligned}\n",
    "$$\n",
    "for every rotation $\\R$ and translation $\\T$.\n",
    "We call such distributions $E(3)$-equivariant. The name\n",
    "comes from the fact that the set of all rotations $\\R$ and translations\n",
    "$\\T$ in 3-dimensional Euclidean space forms the group $E(3)$.\n",
    "\n",
    "Note that invariance under translation $\\T$ is easily handled by using relative\n",
    "position vectors $\\r_i - \\r_j$, which are clearly unaffected by\n",
    "translation. The challenge is to ensure equivariance under rotations $\\R$."
   ]
  }
 ],
 "metadata": {
  "kernelspec": {
   "display_name": "symphony",
   "language": "python",
   "name": "python3"
  },
  "language_info": {
   "codemirror_mode": {
    "name": "ipython",
    "version": 3
   },
   "file_extension": ".py",
   "mimetype": "text/x-python",
   "name": "python",
   "nbconvert_exporter": "python",
   "pygments_lexer": "ipython3",
   "version": "3.10.14"
  }
 },
 "nbformat": 4,
 "nbformat_minor": 2
}
