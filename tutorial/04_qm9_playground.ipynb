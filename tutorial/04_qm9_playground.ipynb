{
 "cells": [
  {
   "cell_type": "markdown",
   "metadata": {},
   "source": [
    "## 4. Creating Symphony\n",
    "\n",
    "$$\n",
    "\\def\\gR{\\mathcal{R}}\n",
    "\\def\\gS{\\mathcal{S}}\n",
    "\\def\\r{\\vec{\\mathbf{r}}}\n",
    "\\def\\R{{\\mathbf{R}}}\n",
    "\\def\\T{{\\mathbf{T}}}\n",
    "\\def\\pT{p_\\Theta}\n",
    "\\def\\fT{f_\\Theta}\n",
    "\\def\\p{p}\n",
    "$$"
   ]
  },
  {
   "cell_type": "markdown",
   "metadata": {},
   "source": [
    "We have all the pieces we need to build our autoregressive generative model for molecules, Symphony.\n",
    "\n",
    "Given the current fragment $\\gS$, we need to predict the focus atom $f$, the next atom's type $Z$ and it's position $\\r$ relative to the focus atom.\n",
    "\n",
    "For this, Symphony employs two $E(3)$-equivariant neural networks:\n",
    "- The first network needs to predict the focus node index in $S$ and the next atom type $Z$. Both of these quantities should be invariant to the permutation of the atoms in $\\gS$, so we use an $E(3)$ equivariant message-passing network, specifically [NequIP](https://www.nature.com/articles/s41467-022-29939-5). Note that these quantities are invariant to the rotation and translation of the molecule, and hence, we only need to extract the scalar features from each node to predict them. Essentially, this is a glorified classification problem, and we don't need to do anything fancy here. \n",
    "- The more *interesting part is predicting the relative position of the next atom. Here, we can use the 'multi-channel spherical harmonics' idea that we explored in the second notebook. In particular, the second network computes an embedding for the focus node via message-passing and then predicts the coefficients $c^l_{\\text{ch}}(r)$ for each discretized distance $r$. This gives rise to the following distribution over 3D:\n",
    "$$\n",
    "p(r, \\theta, \\phi; \\gS) = \\frac{\\exp{f(r, \\theta, \\phi)}}{\\int_{\\mathbb{R}^3}\\exp{f(r, \\theta', \\phi')} \\ dV'} \\\\\n",
    "f(r, \\theta, \\phi; \\gS) = \\log \\sum_{\\text{ch}} \\exp\\left(\\sum_{l = 0}^{L} (c^l_{\\text{ch}}(r))^T Y^l(\\theta, \\phi)\\right)\n",
    "$$\n",
    "which satisifies:\n",
    "$$\n",
    "\n",
    "\\int_{\\mathbb{R}^3} p(r, \\theta, \\phi; \\gS) \\ dV &= 1 \\\\\n",
    "\\p(r, \\theta, \\phi; \\gS) &\\geq 0\n",
    "\\end{aligned}\n",
    "$$\n",
    "where $dV = r^2 \\sin \\theta \\ dr \\ d\\theta \\ d\\phi$ is the volume element in spherical coordinates.\n",
    "\n",
    "Further, because we use $E(3)$-equivariant neural networks, the distribution $p(r, \\theta, \\phi; \\gS)$ is also equivariant to the rotation $\\R$ and translation $\\T$ of the fragment $\\gS$:\n",
    "$$\n",
    "p(\\R \\cdot (r, \\theta, \\phi) + \\T; \\R \\gS + \\T) = p(r, \\theta, \\phi; \\gS) \\\\\n",
    "$$"
   ]
  },
  {
   "cell_type": "markdown",
   "metadata": {},
   "source": [
    "## Symphony on QM9\n",
    "\n",
    "Here, you can play around with a pre-trained Symphony model on the QM9 dataset."
   ]
  },
  {
   "cell_type": "code",
   "execution_count": null,
   "metadata": {},
   "outputs": [],
   "source": [
    "# Setup.\n",
    "!pip install git+https://github.com/atomicarchitects/symphony@tutorial\n",
    "!curl -L -H 'Cache-Control: no-cache' https://github.com/atomicarchitects/symphony/archive/refs/heads/tutorial.zip -o symphony-tutorial.zip\n",
    "!unzip symphony-tutorial.zip --yes\n",
    "!mv symphony-tutorial-tutorial/tutorial tutorial\n",
    "!rm -r symphony-tutorial-tutorial symphony-tutorial.zip\n",
    "!cd tutorial\n"
   ]
  },
  {
   "cell_type": "code",
   "execution_count": null,
   "metadata": {},
   "outputs": [],
   "source": [
    "# Imports.\n",
    "from typing import List\n",
    "import pickle\n",
    "\n",
    "import jax\n",
    "import jax.numpy as jnp\n",
    "import jraph\n",
    "import numpy as np\n",
    "import plotly.graph_objects as go\n",
    "\n",
    "import sys\n",
    "sys.path.append(\"../\")\n",
    "\n",
    "import tutorial.visualizer as visualizer\n",
    "import tutorial.tutorial_utils as tutorial_utils"
   ]
  },
  {
   "cell_type": "code",
   "execution_count": null,
   "metadata": {},
   "outputs": [],
   "source": [
    "model, params, config = tutorial_utils.load_model_at_step(\n",
    "    workdir=\"./workdir\",\n",
    "    step=\"best\",\n",
    "    run_in_evaluation_mode=True,\n",
    ")"
   ]
  },
  {
   "cell_type": "markdown",
   "metadata": {},
   "source": [
    "Load some fragments from QM9. We have extracted some fragments from QM9 already, with the following code:\n"
   ]
  },
  {
   "cell_type": "code",
   "execution_count": null,
   "metadata": {},
   "outputs": [],
   "source": [
    "saved_fragments_path = \"./data/qm9_fragments_list.pkl\"\n",
    "\n",
    "if os.path.exists(saved_fragments_path):\n",
    "    with open(saved_fragments_path, \"rb\") as f:\n",
    "        molecule_fragments = pickle.load(f)\n",
    "\n",
    "else:\n",
    "    from symphony.data import qm9\n",
    "    from symphony.data import fragments\n",
    "\n",
    "    # Load the QM9 dataset.    \n",
    "    molecules = qm9.load_qm9(\"./data/qm9\", use_edm_splits=True, check_molecule_sanity=False)\n",
    "    \n",
    "    # We pick the first molecule in the dataset.\n",
    "    molecule = molecules[0]\n",
    "    molecule_graph = tutorial_utils.ase_atoms_to_jraph_graph(\n",
    "        atoms=molecule,\n",
    "        atomic_numbers=np.asarray([1, 6, 7, 8, 9]),\n",
    "        nn_cutoff=config.nn_cutoff\n",
    "    )\n",
    "    molecule_fragments = fragments.generate_fragments(\n",
    "        jax.random.PRNGKey(0),\n",
    "        molecule_graph,\n",
    "        n_species=5,\n",
    "        nn_tolerance=config.nn_tolerance,\n",
    "        mode=\"nn\",\n",
    "    )\n",
    "    molecule_fragments = list(molecule_fragments)\n",
    "\n",
    "    with open(saved_fragments_path, \"wb\") as f:\n",
    "        pickle.dump(molecule_fragments, f)"
   ]
  },
  {
   "cell_type": "markdown",
   "metadata": {},
   "source": [
    "We start off with a fragment with a single atom."
   ]
  },
  {
   "cell_type": "code",
   "execution_count": null,
   "metadata": {},
   "outputs": [],
   "source": [
    "visualizer.visualize_fragment(molecule_fragments[0])"
   ]
  },
  {
   "cell_type": "markdown",
   "metadata": {},
   "source": [
    "... which grows into a larger fragment:"
   ]
  },
  {
   "cell_type": "code",
   "execution_count": null,
   "metadata": {},
   "outputs": [],
   "source": [
    "visualizer.visualize_fragment(molecule_fragments[1])"
   ]
  },
  {
   "cell_type": "code",
   "execution_count": null,
   "metadata": {},
   "outputs": [],
   "source": [
    "visualizer.visualize_fragment(molecule_fragments[5])"
   ]
  },
  {
   "cell_type": "markdown",
   "metadata": {},
   "source": [
    "and end up with a molecule!"
   ]
  },
  {
   "cell_type": "code",
   "execution_count": null,
   "metadata": {},
   "outputs": [],
   "source": [
    "visualizer.visualize_fragment(molecule_fragments[-1])"
   ]
  },
  {
   "cell_type": "markdown",
   "metadata": {},
   "source": [
    "We can query Symphony for the next atom in the sequence.\n",
    "We could do this recursively to generate whole molecules, but here we'll just generate one atom starting from each fragment.\n",
    "Note that the model has seen many different sequences of atoms, so its predictions may not match the sequence of fragments here!"
   ]
  },
  {
   "cell_type": "code",
   "execution_count": null,
   "metadata": {},
   "outputs": [],
   "source": [
    "apply_rng = jax.random.PRNGKey(0)\n",
    "preds = jax.jit(model.apply)(\n",
    "    params,\n",
    "    apply_rng,\n",
    "    jraph.batch(molecule_fragments),\n",
    "    focus_and_atom_type_inverse_temperature=1.0,\n",
    "    position_inverse_temperature=1.0\n",
    ")\n",
    "\n",
    "fixed_preds = []\n",
    "for index, (fragment, pred) in enumerate(\n",
    "    zip(molecule_fragments, jraph.unbatch(preds))\n",
    "):\n",
    "    # Remove batch dimension.\n",
    "    # Also, correct the focus indices.\n",
    "    pred = pred._replace(\n",
    "        globals=jax.tree_util.tree_map(lambda x: np.squeeze(x, axis=0), pred.globals)\n",
    "    )\n",
    "    corrected_focus_indices = (\n",
    "        pred.globals.focus_indices - preds.n_node[:index].sum()\n",
    "    )\n",
    "    pred = pred._replace(\n",
    "        globals=pred.globals._replace(focus_indices=corrected_focus_indices)\n",
    "    )\n",
    "\n",
    "    fixed_preds.append(pred)"
   ]
  },
  {
   "cell_type": "markdown",
   "metadata": {},
   "source": [
    "Note how Symphony respects all symmetries of the input fragment $\\gS$.\n",
    "If there is only one atom in the fragment, the model predicts a rotationally symmetric distribution over the next atom's position."
   ]
  },
  {
   "cell_type": "code",
   "execution_count": null,
   "metadata": {},
   "outputs": [],
   "source": [
    "visualizer.visualize_predictions(fixed_preds[0], molecule_fragments[0], showlegend=True)"
   ]
  },
  {
   "cell_type": "code",
   "execution_count": null,
   "metadata": {},
   "outputs": [],
   "source": [
    "visualizer.visualize_predictions(fixed_preds[1], molecule_fragments[1], showlegend=True)"
   ]
  },
  {
   "cell_type": "code",
   "execution_count": null,
   "metadata": {},
   "outputs": [],
   "source": [
    "visualizer.visualize_predictions(fixed_preds[5], molecule_fragments[5], showlegend=True)"
   ]
  },
  {
   "cell_type": "code",
   "execution_count": null,
   "metadata": {},
   "outputs": [],
   "source": [
    "visualizer.visualize_predictions(fixed_preds[-1], molecule_fragments[-1], showlegend=True)"
   ]
  }
 ],
 "metadata": {
  "kernelspec": {
   "display_name": "symphony",
   "language": "python",
   "name": "python3"
  },
  "language_info": {
   "codemirror_mode": {
    "name": "ipython",
    "version": 3
   },
   "file_extension": ".py",
   "mimetype": "text/x-python",
   "name": "python",
   "nbconvert_exporter": "python",
   "pygments_lexer": "ipython3",
   "version": "3.10.12"
  }
 },
 "nbformat": 4,
 "nbformat_minor": 2
}
